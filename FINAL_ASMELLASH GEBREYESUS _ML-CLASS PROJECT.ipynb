{
 "cells": [
  {
   "cell_type": "markdown",
   "id": "f0d51bdb",
   "metadata": {},
   "source": [
    "NAME : ASMELLASH G/YESUS \n",
    "    ID-NO :RM/0933/14\n",
    "        TOPIC : HATE SPEECH DETECTION AFAAN OROMO TEXT ON SOCIAL MEDIA "
   ]
  },
  {
   "cell_type": "markdown",
   "id": "570b26a6",
   "metadata": {},
   "source": [
    "ABOUT THE DATASET\n",
    "  the data set has two feature (attribute)\n",
    "  1. post (the input variable or the independent variable)\n",
    "  2. label (the out variable or the dependent variable)\n",
    "  THE IN PUT VARIABLE ARE THE TEXT AND THE OUTPUT VARIABLE ARE THE LABEL EITHER THE TEXT IS NORMAL OR HATE"
   ]
  },
  {
   "cell_type": "markdown",
   "id": "3b1a8888",
   "metadata": {},
   "source": [
    "# importing library"
   ]
  },
  {
   "cell_type": "code",
   "execution_count": 1,
   "id": "ca0d88c3",
   "metadata": {},
   "outputs": [],
   "source": [
    "import pandas as pd\n",
    "from sklearn.feature_extraction.text import CountVectorizer, TfidfVectorizer\n",
    "from sklearn.metrics import accuracy_score\n",
    "import matplotlib.pyplot as plt\n",
    "import numpy as np \n",
    "import matplotlib.pyplot as plt \n",
    "from scipy.stats import itemfreq\n",
    "import pandas as pd\n",
    "from sklearn.model_selection import train_test_split\n",
    "from sklearn.metrics import classification_report, confusion_matrix, accuracy_score\n",
    "import warnings\n",
    "from sklearn.metrics import classification_report, confusion_matrix, accuracy_score\n",
    "from sklearn.dummy import DummyClassifier"
   ]
  },
  {
   "cell_type": "code",
   "execution_count": 2,
   "id": "77abbe06",
   "metadata": {},
   "outputs": [],
   "source": [
    "import string\n",
    "Hate = pd.read_excel(\"E:\\ml\\hate1.xlsx\", header = None)\n",
    "Hate.rename(columns={0:'post', 1:'label'}, inplace=True)\n",
    "my_labels = ['hate', 'normal']"
   ]
  },
  {
   "cell_type": "markdown",
   "id": "87307fd6",
   "metadata": {},
   "source": [
    "# 1. DATA CLEANING"
   ]
  },
  {
   "cell_type": "code",
   "execution_count": 3,
   "id": "77414984",
   "metadata": {},
   "outputs": [
    {
     "name": "stdout",
     "output_type": "stream",
     "text": [
      "<class 'pandas.core.frame.DataFrame'>\n",
      "RangeIndex: 4000 entries, 0 to 3999\n",
      "Data columns (total 2 columns):\n",
      " #   Column  Non-Null Count  Dtype \n",
      "---  ------  --------------  ----- \n",
      " 0   post    4000 non-null   object\n",
      " 1   label   4000 non-null   object\n",
      "dtypes: object(2)\n",
      "memory usage: 62.6+ KB\n"
     ]
    }
   ],
   "source": [
    "Hate.info()"
   ]
  },
  {
   "cell_type": "code",
   "execution_count": 4,
   "id": "caa904e3",
   "metadata": {},
   "outputs": [
    {
     "data": {
      "text/plain": [
       "(4000, 2)"
      ]
     },
     "execution_count": 4,
     "metadata": {},
     "output_type": "execute_result"
    }
   ],
   "source": [
    "Hate.shape"
   ]
  },
  {
   "cell_type": "code",
   "execution_count": 5,
   "id": "8bcc8abc",
   "metadata": {},
   "outputs": [],
   "source": [
    "# ENCODING \n",
    "from sklearn.preprocessing import LabelEncoder\n",
    "encoder=LabelEncoder()\n"
   ]
  },
  {
   "cell_type": "code",
   "execution_count": 6,
   "id": "f8d6fe80",
   "metadata": {},
   "outputs": [
    {
     "data": {
      "text/html": [
       "<div>\n",
       "<style scoped>\n",
       "    .dataframe tbody tr th:only-of-type {\n",
       "        vertical-align: middle;\n",
       "    }\n",
       "\n",
       "    .dataframe tbody tr th {\n",
       "        vertical-align: top;\n",
       "    }\n",
       "\n",
       "    .dataframe thead th {\n",
       "        text-align: right;\n",
       "    }\n",
       "</style>\n",
       "<table border=\"1\" class=\"dataframe\">\n",
       "  <thead>\n",
       "    <tr style=\"text-align: right;\">\n",
       "      <th></th>\n",
       "      <th>post</th>\n",
       "      <th>label</th>\n",
       "    </tr>\n",
       "  </thead>\n",
       "  <tbody>\n",
       "    <tr>\n",
       "      <th>0</th>\n",
       "      <td>Mumicha minster Ethiopian jawar Mohammed 2020 ...</td>\n",
       "      <td>1</td>\n",
       "    </tr>\n",
       "    <tr>\n",
       "      <th>1</th>\n",
       "      <td>Rabbiin dhabamaa si haa godhuu malee xalaatni ...</td>\n",
       "      <td>0</td>\n",
       "    </tr>\n",
       "    <tr>\n",
       "      <th>2</th>\n",
       "      <td>Kiyaa Ajawaa kana dhagefachu jibee wly  Walaga...</td>\n",
       "      <td>0</td>\n",
       "    </tr>\n",
       "    <tr>\n",
       "      <th>3</th>\n",
       "      <td>dubartoonni Oromoo dress qofa jijjiiradhaa paa...</td>\n",
       "      <td>1</td>\n",
       "    </tr>\n",
       "    <tr>\n",
       "      <th>4</th>\n",
       "      <td>Ani omn koo dhabe midia  amara jelaa ilala tur...</td>\n",
       "      <td>1</td>\n",
       "    </tr>\n",
       "  </tbody>\n",
       "</table>\n",
       "</div>"
      ],
      "text/plain": [
       "                                                post  label\n",
       "0  Mumicha minster Ethiopian jawar Mohammed 2020 ...      1\n",
       "1  Rabbiin dhabamaa si haa godhuu malee xalaatni ...      0\n",
       "2  Kiyaa Ajawaa kana dhagefachu jibee wly  Walaga...      0\n",
       "3  dubartoonni Oromoo dress qofa jijjiiradhaa paa...      1\n",
       "4  Ani omn koo dhabe midia  amara jelaa ilala tur...      1"
      ]
     },
     "execution_count": 6,
     "metadata": {},
     "output_type": "execute_result"
    }
   ],
   "source": [
    "Hate['label']=encoder.fit_transform(Hate['label'])\n",
    "Hate.head()"
   ]
  },
  {
   "cell_type": "code",
   "execution_count": 7,
   "id": "97ab9ece",
   "metadata": {},
   "outputs": [
    {
     "data": {
      "text/html": [
       "<div>\n",
       "<style scoped>\n",
       "    .dataframe tbody tr th:only-of-type {\n",
       "        vertical-align: middle;\n",
       "    }\n",
       "\n",
       "    .dataframe tbody tr th {\n",
       "        vertical-align: top;\n",
       "    }\n",
       "\n",
       "    .dataframe thead th {\n",
       "        text-align: right;\n",
       "    }\n",
       "</style>\n",
       "<table border=\"1\" class=\"dataframe\">\n",
       "  <thead>\n",
       "    <tr style=\"text-align: right;\">\n",
       "      <th></th>\n",
       "      <th>post</th>\n",
       "      <th>label</th>\n",
       "    </tr>\n",
       "  </thead>\n",
       "  <tbody>\n",
       "    <tr>\n",
       "      <th>3995</th>\n",
       "      <td>Jazbaa</td>\n",
       "      <td>0</td>\n",
       "    </tr>\n",
       "    <tr>\n",
       "      <th>3996</th>\n",
       "      <td>Bineensi si caalu hin jiru.</td>\n",
       "      <td>0</td>\n",
       "    </tr>\n",
       "    <tr>\n",
       "      <th>3997</th>\n",
       "      <td>Bineensi si caalu</td>\n",
       "      <td>0</td>\n",
       "    </tr>\n",
       "    <tr>\n",
       "      <th>3998</th>\n",
       "      <td>Amma waan sirrii dubbatte.</td>\n",
       "      <td>0</td>\n",
       "    </tr>\n",
       "    <tr>\n",
       "      <th>3999</th>\n",
       "      <td>Kadirootta akka keetii gubba gadi cassaa nama ...</td>\n",
       "      <td>0</td>\n",
       "    </tr>\n",
       "  </tbody>\n",
       "</table>\n",
       "</div>"
      ],
      "text/plain": [
       "                                                   post  label\n",
       "3995                                             Jazbaa      0\n",
       "3996                        Bineensi si caalu hin jiru.      0\n",
       "3997                                  Bineensi si caalu      0\n",
       "3998                         Amma waan sirrii dubbatte.      0\n",
       "3999  Kadirootta akka keetii gubba gadi cassaa nama ...      0"
      ]
     },
     "execution_count": 7,
     "metadata": {},
     "output_type": "execute_result"
    }
   ],
   "source": [
    "Hate.tail()"
   ]
  },
  {
   "cell_type": "code",
   "execution_count": 8,
   "id": "261c1573",
   "metadata": {},
   "outputs": [
    {
     "data": {
      "text/plain": [
       "1    2465\n",
       "0    1535\n",
       "Name: label, dtype: int64"
      ]
     },
     "execution_count": 8,
     "metadata": {},
     "output_type": "execute_result"
    }
   ],
   "source": [
    "Hate['label'].value_counts()"
   ]
  },
  {
   "cell_type": "code",
   "execution_count": 9,
   "id": "dd15707b",
   "metadata": {},
   "outputs": [
    {
     "data": {
      "text/plain": [
       "post     0\n",
       "label    0\n",
       "dtype: int64"
      ]
     },
     "execution_count": 9,
     "metadata": {},
     "output_type": "execute_result"
    }
   ],
   "source": [
    "# missing values\n",
    "Hate.isnull().sum()"
   ]
  },
  {
   "cell_type": "code",
   "execution_count": 10,
   "id": "ea38de0d",
   "metadata": {},
   "outputs": [
    {
     "data": {
      "text/plain": [
       "162"
      ]
     },
     "execution_count": 10,
     "metadata": {},
     "output_type": "execute_result"
    }
   ],
   "source": [
    "# check fro duplicate values\n",
    "Hate.duplicated().sum()"
   ]
  },
  {
   "cell_type": "code",
   "execution_count": 11,
   "id": "e5e7a500",
   "metadata": {},
   "outputs": [],
   "source": [
    "#removing duplicated\n",
    "Hate=Hate.drop_duplicates(keep='first')"
   ]
  },
  {
   "cell_type": "code",
   "execution_count": 12,
   "id": "f841a51d",
   "metadata": {},
   "outputs": [
    {
     "data": {
      "text/plain": [
       "0"
      ]
     },
     "execution_count": 12,
     "metadata": {},
     "output_type": "execute_result"
    }
   ],
   "source": [
    "Hate.duplicated().sum()"
   ]
  },
  {
   "cell_type": "code",
   "execution_count": 13,
   "id": "5002c9c4",
   "metadata": {},
   "outputs": [
    {
     "data": {
      "text/plain": [
       "(3838, 2)"
      ]
     },
     "execution_count": 13,
     "metadata": {},
     "output_type": "execute_result"
    }
   ],
   "source": [
    "Hate.shape"
   ]
  },
  {
   "cell_type": "code",
   "execution_count": 14,
   "id": "f6e04ad7",
   "metadata": {},
   "outputs": [
    {
     "data": {
      "text/plain": [
       "1    2433\n",
       "0    1405\n",
       "Name: label, dtype: int64"
      ]
     },
     "execution_count": 14,
     "metadata": {},
     "output_type": "execute_result"
    }
   ],
   "source": [
    "Hate['label'].value_counts()"
   ]
  },
  {
   "cell_type": "code",
   "execution_count": 15,
   "id": "c9b0ea59",
   "metadata": {},
   "outputs": [
    {
     "data": {
      "text/plain": [
       "([<matplotlib.patches.Wedge at 0x25229ffe880>,\n",
       "  <matplotlib.patches.Wedge at 0x2522a6a4fd0>],\n",
       " [Text(-0.4492740980628608, 1.004068117614439, 'normal'),\n",
       "  Text(0.44927419207050084, -1.0040680755503577, 'hate')],\n",
       " [Text(-0.24505859894337859, 0.5476735186987849, '63.39'),\n",
       "  Text(0.24505865022027315, -0.5476734957547404, '36.61')])"
      ]
     },
     "execution_count": 15,
     "metadata": {},
     "output_type": "execute_result"
    },
    {
     "data": {
      "image/png": "[encoded data removed]",
      "text/plain": [
       "<Figure size 432x288 with 1 Axes>"
      ]
     },
     "metadata": {},
     "output_type": "display_data"
    }
   ],
   "source": [
    "import matplotlib.pyplot as plt\n",
    "plt.pie(Hate['label'].value_counts(),labels=['normal','hate'],autopct=\"%0.2f\")"
   ]
  },
  {
   "cell_type": "code",
   "execution_count": 16,
   "id": "42277cd9",
   "metadata": {},
   "outputs": [],
   "source": [
    "# data is imbalanced"
   ]
  },
  {
   "cell_type": "code",
   "execution_count": 17,
   "id": "7e464c04",
   "metadata": {},
   "outputs": [
    {
     "data": {
      "text/html": [
       "<div>\n",
       "<style scoped>\n",
       "    .dataframe tbody tr th:only-of-type {\n",
       "        vertical-align: middle;\n",
       "    }\n",
       "\n",
       "    .dataframe tbody tr th {\n",
       "        vertical-align: top;\n",
       "    }\n",
       "\n",
       "    .dataframe thead tr th {\n",
       "        text-align: left;\n",
       "    }\n",
       "\n",
       "    .dataframe thead tr:last-of-type th {\n",
       "        text-align: right;\n",
       "    }\n",
       "</style>\n",
       "<table border=\"1\" class=\"dataframe\">\n",
       "  <thead>\n",
       "    <tr>\n",
       "      <th></th>\n",
       "      <th colspan=\"4\" halign=\"left\">post</th>\n",
       "    </tr>\n",
       "    <tr>\n",
       "      <th></th>\n",
       "      <th>count</th>\n",
       "      <th>unique</th>\n",
       "      <th>top</th>\n",
       "      <th>freq</th>\n",
       "    </tr>\n",
       "    <tr>\n",
       "      <th>label</th>\n",
       "      <th></th>\n",
       "      <th></th>\n",
       "      <th></th>\n",
       "      <th></th>\n",
       "    </tr>\n",
       "  </thead>\n",
       "  <tbody>\n",
       "    <tr>\n",
       "      <th>0</th>\n",
       "      <td>1405</td>\n",
       "      <td>1405</td>\n",
       "      <td>Rabbiin dhabamaa si haa godhuu malee xalaatni ...</td>\n",
       "      <td>1</td>\n",
       "    </tr>\n",
       "    <tr>\n",
       "      <th>1</th>\n",
       "      <td>2433</td>\n",
       "      <td>2433</td>\n",
       "      <td>Mumicha minster Ethiopian jawar Mohammed 2020 ...</td>\n",
       "      <td>1</td>\n",
       "    </tr>\n",
       "  </tbody>\n",
       "</table>\n",
       "</div>"
      ],
      "text/plain": [
       "       post                                                               \n",
       "      count unique                                                top freq\n",
       "label                                                                     \n",
       "0      1405   1405  Rabbiin dhabamaa si haa godhuu malee xalaatni ...    1\n",
       "1      2433   2433  Mumicha minster Ethiopian jawar Mohammed 2020 ...    1"
      ]
     },
     "execution_count": 17,
     "metadata": {},
     "output_type": "execute_result"
    }
   ],
   "source": [
    "# describing by labels\n",
    "Hate.groupby('label').describe()"
   ]
  },
  {
   "cell_type": "code",
   "execution_count": 18,
   "id": "b560a776",
   "metadata": {},
   "outputs": [
    {
     "data": {
      "text/plain": [
       "array([1, 0])"
      ]
     },
     "execution_count": 18,
     "metadata": {},
     "output_type": "execute_result"
    }
   ],
   "source": [
    "Hate['label'].unique()"
   ]
  },
  {
   "cell_type": "code",
   "execution_count": 19,
   "id": "c9e9284d",
   "metadata": {},
   "outputs": [
    {
     "data": {
      "text/plain": [
       "array(['Mumicha minster Ethiopian jawar Mohammed 2020 inshallah ??',\n",
       "       \"Rabbiin dhabamaa si haa godhuu malee xalaatni tokko si'ii qomaxaa saree Daniel kibrat walin tatee masjidaa qubdee Rabbii si haa gubuu ilmaa fincaan minilik fagaara  Dr zinaash\",\n",
       "       'Kiyaa Ajawaa kana dhagefachu jibee wly  Walagaatii ilmaan Oromoo dhumaa jirtii inii asii kijibaa ??????',\n",
       "       ..., 'Taguggaa', 'Afuuuuuftuuuuuuuuuiui',\n",
       "       'Amma waan sirrii dubbatte.'], dtype=object)"
      ]
     },
     "execution_count": 19,
     "metadata": {},
     "output_type": "execute_result"
    }
   ],
   "source": [
    "Hate['post'].unique()"
   ]
  },
  {
   "cell_type": "code",
   "execution_count": 20,
   "id": "b32e15ce",
   "metadata": {},
   "outputs": [
    {
     "data": {
      "text/html": [
       "<div>\n",
       "<style scoped>\n",
       "    .dataframe tbody tr th:only-of-type {\n",
       "        vertical-align: middle;\n",
       "    }\n",
       "\n",
       "    .dataframe tbody tr th {\n",
       "        vertical-align: top;\n",
       "    }\n",
       "\n",
       "    .dataframe thead th {\n",
       "        text-align: right;\n",
       "    }\n",
       "</style>\n",
       "<table border=\"1\" class=\"dataframe\">\n",
       "  <thead>\n",
       "    <tr style=\"text-align: right;\">\n",
       "      <th></th>\n",
       "      <th>label</th>\n",
       "    </tr>\n",
       "  </thead>\n",
       "  <tbody>\n",
       "    <tr>\n",
       "      <th>count</th>\n",
       "      <td>3838.000000</td>\n",
       "    </tr>\n",
       "    <tr>\n",
       "      <th>mean</th>\n",
       "      <td>0.633924</td>\n",
       "    </tr>\n",
       "    <tr>\n",
       "      <th>std</th>\n",
       "      <td>0.481793</td>\n",
       "    </tr>\n",
       "    <tr>\n",
       "      <th>min</th>\n",
       "      <td>0.000000</td>\n",
       "    </tr>\n",
       "    <tr>\n",
       "      <th>25%</th>\n",
       "      <td>0.000000</td>\n",
       "    </tr>\n",
       "    <tr>\n",
       "      <th>50%</th>\n",
       "      <td>1.000000</td>\n",
       "    </tr>\n",
       "    <tr>\n",
       "      <th>75%</th>\n",
       "      <td>1.000000</td>\n",
       "    </tr>\n",
       "    <tr>\n",
       "      <th>max</th>\n",
       "      <td>1.000000</td>\n",
       "    </tr>\n",
       "  </tbody>\n",
       "</table>\n",
       "</div>"
      ],
      "text/plain": [
       "             label\n",
       "count  3838.000000\n",
       "mean      0.633924\n",
       "std       0.481793\n",
       "min       0.000000\n",
       "25%       0.000000\n",
       "50%       1.000000\n",
       "75%       1.000000\n",
       "max       1.000000"
      ]
     },
     "execution_count": 20,
     "metadata": {},
     "output_type": "execute_result"
    }
   ],
   "source": [
    "Hate.describe()"
   ]
  },
  {
   "cell_type": "code",
   "execution_count": 21,
   "id": "83fe13ae",
   "metadata": {},
   "outputs": [
    {
     "data": {
      "text/plain": [
       "1    2433\n",
       "0    1405\n",
       "Name: label, dtype: int64"
      ]
     },
     "execution_count": 21,
     "metadata": {},
     "output_type": "execute_result"
    }
   ],
   "source": [
    "# categorical column : Counts\n",
    "Hate.label.value_counts()"
   ]
  },
  {
   "cell_type": "code",
   "execution_count": 22,
   "id": "d4dafed7",
   "metadata": {},
   "outputs": [
    {
     "data": {
      "text/plain": [
       "1    0.633924\n",
       "0    0.366076\n",
       "Name: label, dtype: float64"
      ]
     },
     "execution_count": 22,
     "metadata": {},
     "output_type": "execute_result"
    }
   ],
   "source": [
    "# categorical column : Proprotions\n",
    "Hate.label.value_counts(normalize=True)"
   ]
  },
  {
   "cell_type": "code",
   "execution_count": 23,
   "id": "19e5a7f9",
   "metadata": {},
   "outputs": [
    {
     "data": {
      "text/plain": [
       "<AxesSubplot:>"
      ]
     },
     "execution_count": 23,
     "metadata": {},
     "output_type": "execute_result"
    },
    {
     "data": {
      "image/png": "[encoded data removed]",
      "text/plain": [
       "<Figure size 432x288 with 1 Axes>"
      ]
     },
     "metadata": {
      "needs_background": "light"
     },
     "output_type": "display_data"
    }
   ],
   "source": [
    "# visualize counts\n",
    "Hate.label.value_counts().plot(kind='bar')"
   ]
  },
  {
   "cell_type": "code",
   "execution_count": 24,
   "id": "546e44e6",
   "metadata": {},
   "outputs": [
    {
     "data": {
      "text/plain": [
       "<AxesSubplot:title={'center':'the speech wise counter label'}>"
      ]
     },
     "execution_count": 24,
     "metadata": {},
     "output_type": "execute_result"
    },
    {
     "data": {
      "image/png": "[encoded data removed]",
      "text/plain": [
       "<Figure size 432x288 with 1 Axes>"
      ]
     },
     "metadata": {
      "needs_background": "light"
     },
     "output_type": "display_data"
    }
   ],
   "source": [
    "# title : to set title, color : to set color,  rot : to rotate labels \n",
    "Hate.label.value_counts().plot(kind='bar',rot = 0, title='the speech wise counter label', color='c')"
   ]
  },
  {
   "cell_type": "code",
   "execution_count": 25,
   "id": "08c43a3d",
   "metadata": {},
   "outputs": [
    {
     "data": {
      "text/plain": [
       "([<matplotlib.patches.Wedge at 0x2522a889880>,\n",
       "  <matplotlib.patches.Wedge at 0x2522a889dc0>],\n",
       " [Text(-0.4492740980628608, 1.004068117614439, 'normal'),\n",
       "  Text(0.44927419207050084, -1.0040680755503577, 'hate')])"
      ]
     },
     "execution_count": 25,
     "metadata": {},
     "output_type": "execute_result"
    },
    {
     "data": {
      "image/png": "[encoded data removed]",
      "text/plain": [
       "<Figure size 1440x720 with 1 Axes>"
      ]
     },
     "metadata": {},
     "output_type": "display_data"
    }
   ],
   "source": [
    "#mat plot our data set labeling\n",
    "plt.figure(figsize=(20,10))\n",
    "label=[\"normal\",\"hate\"]\n",
    "#Show the histogram\n",
    "plt.pie(Hate.label.value_counts(),labels=label)"
   ]
  },
  {
   "cell_type": "code",
   "execution_count": 26,
   "id": "c4c3aa96",
   "metadata": {},
   "outputs": [
    {
     "data": {
      "text/html": [
       "<div>\n",
       "<style scoped>\n",
       "    .dataframe tbody tr th:only-of-type {\n",
       "        vertical-align: middle;\n",
       "    }\n",
       "\n",
       "    .dataframe tbody tr th {\n",
       "        vertical-align: top;\n",
       "    }\n",
       "\n",
       "    .dataframe thead tr th {\n",
       "        text-align: left;\n",
       "    }\n",
       "\n",
       "    .dataframe thead tr:last-of-type th {\n",
       "        text-align: right;\n",
       "    }\n",
       "</style>\n",
       "<table border=\"1\" class=\"dataframe\">\n",
       "  <thead>\n",
       "    <tr>\n",
       "      <th></th>\n",
       "      <th colspan=\"4\" halign=\"left\">post</th>\n",
       "    </tr>\n",
       "    <tr>\n",
       "      <th></th>\n",
       "      <th>count</th>\n",
       "      <th>unique</th>\n",
       "      <th>top</th>\n",
       "      <th>freq</th>\n",
       "    </tr>\n",
       "    <tr>\n",
       "      <th>label</th>\n",
       "      <th></th>\n",
       "      <th></th>\n",
       "      <th></th>\n",
       "      <th></th>\n",
       "    </tr>\n",
       "  </thead>\n",
       "  <tbody>\n",
       "    <tr>\n",
       "      <th>0</th>\n",
       "      <td>1405</td>\n",
       "      <td>1405</td>\n",
       "      <td>Rabbiin dhabamaa si haa godhuu malee xalaatni ...</td>\n",
       "      <td>1</td>\n",
       "    </tr>\n",
       "    <tr>\n",
       "      <th>1</th>\n",
       "      <td>2433</td>\n",
       "      <td>2433</td>\n",
       "      <td>Mumicha minster Ethiopian jawar Mohammed 2020 ...</td>\n",
       "      <td>1</td>\n",
       "    </tr>\n",
       "  </tbody>\n",
       "</table>\n",
       "</div>"
      ],
      "text/plain": [
       "       post                                                               \n",
       "      count unique                                                top freq\n",
       "label                                                                     \n",
       "0      1405   1405  Rabbiin dhabamaa si haa godhuu malee xalaatni ...    1\n",
       "1      2433   2433  Mumicha minster Ethiopian jawar Mohammed 2020 ...    1"
      ]
     },
     "execution_count": 26,
     "metadata": {},
     "output_type": "execute_result"
    }
   ],
   "source": [
    "# describing by labels\n",
    "Hate.groupby('label').describe()"
   ]
  },
  {
   "cell_type": "markdown",
   "id": "797b6125",
   "metadata": {},
   "source": [
    " 2.EXPLORE DATA ANALYSIS"
   ]
  },
  {
   "cell_type": "code",
   "execution_count": 27,
   "id": "a384ca21",
   "metadata": {},
   "outputs": [
    {
     "name": "stdout",
     "output_type": "stream",
     "text": [
      "                                                post  label\n",
      "0  mumicha minster ethiopian jawar mohammed  insh...      1\n",
      "1  rabbiin dhabamaa si haa godhuu xalaatni tokko ...      0\n",
      "2  kiyaa ajawaa dhagefachu jibee wly  walagaatii ...      0\n",
      "3  dubartoonni oromoo dress qofa jijjiiradhaa paa...      1\n",
      "4  omn dhabe midia  amara jelaa ilala turee namit...      1\n",
      "5  ethiopia  bulchuu  miti jimmaa  kantibaa  tate...      0\n",
      "6  kaabineen comment dhageeffachuuf seentan moo w...      1\n",
      "7   abiyin aradhaa wanaa jawaar qequu asiratti du...      0\n",
      "8  ijoolleen amrifaa hin benee muctii harkaa harg...      1\n",
      "9  amara jelaa fiiguu jarii dibanii sii nyacha ji...      1\n"
     ]
    }
   ],
   "source": [
    "import nltk\n",
    "from nltk.corpus import stopwords\n",
    "STOPWORDS = stopwords.words('oromiffa')\n",
    "def clean_text():\n",
    "    #convert all data into lower letter\n",
    "    Hate[\"post\"] = Hate[\"post\"].apply(lambda x: str(x).lower())\n",
    "    #remove punctuation\n",
    "    Hate[\"post\"] = Hate[\"post\"].apply(lambda tweet: tweet.translate(str.maketrans('', '', string.punctuation)))\n",
    "    #remove number number and symbols\n",
    "    Hate[\"post\"] = Hate[\"post\"].apply(lambda tweet: tweet.translate(str.maketrans('', '', \"0123456789❤♀️♥⚽️《\")) )\n",
    "    #remove stop words\n",
    "    Hate[\"post\"] = Hate[\"post\"].str.split(' ').apply(lambda tweet: ' '.join(k for k in tweet if k not in STOPWORDS))\n",
    "clean_text()\n",
    "print(Hate.head(10))"
   ]
  },
  {
   "cell_type": "code",
   "execution_count": 28,
   "id": "d0ea34a1",
   "metadata": {},
   "outputs": [],
   "source": [
    "#number of character\n",
    "Hate['num_characters']=Hate['post'].apply(len)"
   ]
  },
  {
   "cell_type": "code",
   "execution_count": 29,
   "id": "12f3983e",
   "metadata": {},
   "outputs": [
    {
     "data": {
      "text/html": [
       "<div>\n",
       "<style scoped>\n",
       "    .dataframe tbody tr th:only-of-type {\n",
       "        vertical-align: middle;\n",
       "    }\n",
       "\n",
       "    .dataframe tbody tr th {\n",
       "        vertical-align: top;\n",
       "    }\n",
       "\n",
       "    .dataframe thead th {\n",
       "        text-align: right;\n",
       "    }\n",
       "</style>\n",
       "<table border=\"1\" class=\"dataframe\">\n",
       "  <thead>\n",
       "    <tr style=\"text-align: right;\">\n",
       "      <th></th>\n",
       "      <th>post</th>\n",
       "      <th>label</th>\n",
       "      <th>num_characters</th>\n",
       "    </tr>\n",
       "  </thead>\n",
       "  <tbody>\n",
       "    <tr>\n",
       "      <th>0</th>\n",
       "      <td>mumicha minster ethiopian jawar mohammed  insh...</td>\n",
       "      <td>1</td>\n",
       "      <td>52</td>\n",
       "    </tr>\n",
       "    <tr>\n",
       "      <th>1</th>\n",
       "      <td>rabbiin dhabamaa si haa godhuu xalaatni tokko ...</td>\n",
       "      <td>0</td>\n",
       "      <td>168</td>\n",
       "    </tr>\n",
       "    <tr>\n",
       "      <th>2</th>\n",
       "      <td>kiyaa ajawaa dhagefachu jibee wly  walagaatii ...</td>\n",
       "      <td>0</td>\n",
       "      <td>92</td>\n",
       "    </tr>\n",
       "    <tr>\n",
       "      <th>3</th>\n",
       "      <td>dubartoonni oromoo dress qofa jijjiiradhaa paa...</td>\n",
       "      <td>1</td>\n",
       "      <td>81</td>\n",
       "    </tr>\n",
       "    <tr>\n",
       "      <th>4</th>\n",
       "      <td>omn dhabe midia  amara jelaa ilala turee namit...</td>\n",
       "      <td>1</td>\n",
       "      <td>79</td>\n",
       "    </tr>\n",
       "  </tbody>\n",
       "</table>\n",
       "</div>"
      ],
      "text/plain": [
       "                                                post  label  num_characters\n",
       "0  mumicha minster ethiopian jawar mohammed  insh...      1              52\n",
       "1  rabbiin dhabamaa si haa godhuu xalaatni tokko ...      0             168\n",
       "2  kiyaa ajawaa dhagefachu jibee wly  walagaatii ...      0              92\n",
       "3  dubartoonni oromoo dress qofa jijjiiradhaa paa...      1              81\n",
       "4  omn dhabe midia  amara jelaa ilala turee namit...      1              79"
      ]
     },
     "execution_count": 29,
     "metadata": {},
     "output_type": "execute_result"
    }
   ],
   "source": [
    "Hate.head()"
   ]
  },
  {
   "cell_type": "code",
   "execution_count": 30,
   "id": "5d7111e8",
   "metadata": {},
   "outputs": [
    {
     "data": {
      "text/html": [
       "<div>\n",
       "<style scoped>\n",
       "    .dataframe tbody tr th:only-of-type {\n",
       "        vertical-align: middle;\n",
       "    }\n",
       "\n",
       "    .dataframe tbody tr th {\n",
       "        vertical-align: top;\n",
       "    }\n",
       "\n",
       "    .dataframe thead th {\n",
       "        text-align: right;\n",
       "    }\n",
       "</style>\n",
       "<table border=\"1\" class=\"dataframe\">\n",
       "  <thead>\n",
       "    <tr style=\"text-align: right;\">\n",
       "      <th></th>\n",
       "      <th>post</th>\n",
       "      <th>label</th>\n",
       "      <th>num_characters</th>\n",
       "      <th>num_words</th>\n",
       "    </tr>\n",
       "  </thead>\n",
       "  <tbody>\n",
       "    <tr>\n",
       "      <th>0</th>\n",
       "      <td>mumicha minster ethiopian jawar mohammed  insh...</td>\n",
       "      <td>1</td>\n",
       "      <td>52</td>\n",
       "      <td>6</td>\n",
       "    </tr>\n",
       "    <tr>\n",
       "      <th>1</th>\n",
       "      <td>rabbiin dhabamaa si haa godhuu xalaatni tokko ...</td>\n",
       "      <td>0</td>\n",
       "      <td>168</td>\n",
       "      <td>26</td>\n",
       "    </tr>\n",
       "    <tr>\n",
       "      <th>2</th>\n",
       "      <td>kiyaa ajawaa dhagefachu jibee wly  walagaatii ...</td>\n",
       "      <td>0</td>\n",
       "      <td>92</td>\n",
       "      <td>13</td>\n",
       "    </tr>\n",
       "    <tr>\n",
       "      <th>3</th>\n",
       "      <td>dubartoonni oromoo dress qofa jijjiiradhaa paa...</td>\n",
       "      <td>1</td>\n",
       "      <td>81</td>\n",
       "      <td>10</td>\n",
       "    </tr>\n",
       "    <tr>\n",
       "      <th>4</th>\n",
       "      <td>omn dhabe midia  amara jelaa ilala turee namit...</td>\n",
       "      <td>1</td>\n",
       "      <td>79</td>\n",
       "      <td>13</td>\n",
       "    </tr>\n",
       "  </tbody>\n",
       "</table>\n",
       "</div>"
      ],
      "text/plain": [
       "                                                post  label  num_characters  \\\n",
       "0  mumicha minster ethiopian jawar mohammed  insh...      1              52   \n",
       "1  rabbiin dhabamaa si haa godhuu xalaatni tokko ...      0             168   \n",
       "2  kiyaa ajawaa dhagefachu jibee wly  walagaatii ...      0              92   \n",
       "3  dubartoonni oromoo dress qofa jijjiiradhaa paa...      1              81   \n",
       "4  omn dhabe midia  amara jelaa ilala turee namit...      1              79   \n",
       "\n",
       "   num_words  \n",
       "0          6  \n",
       "1         26  \n",
       "2         13  \n",
       "3         10  \n",
       "4         13  "
      ]
     },
     "execution_count": 30,
     "metadata": {},
     "output_type": "execute_result"
    }
   ],
   "source": [
    "#number of words\n",
    "Hate['num_words']=Hate['post'].apply(lambda x:len(nltk.word_tokenize(x)))\n",
    "Hate.head()"
   ]
  },
  {
   "cell_type": "code",
   "execution_count": 31,
   "id": "335e16a9",
   "metadata": {},
   "outputs": [
    {
     "data": {
      "text/html": [
       "<div>\n",
       "<style scoped>\n",
       "    .dataframe tbody tr th:only-of-type {\n",
       "        vertical-align: middle;\n",
       "    }\n",
       "\n",
       "    .dataframe tbody tr th {\n",
       "        vertical-align: top;\n",
       "    }\n",
       "\n",
       "    .dataframe thead th {\n",
       "        text-align: right;\n",
       "    }\n",
       "</style>\n",
       "<table border=\"1\" class=\"dataframe\">\n",
       "  <thead>\n",
       "    <tr style=\"text-align: right;\">\n",
       "      <th></th>\n",
       "      <th>post</th>\n",
       "      <th>label</th>\n",
       "      <th>num_characters</th>\n",
       "      <th>num_words</th>\n",
       "      <th>num_sentence</th>\n",
       "    </tr>\n",
       "  </thead>\n",
       "  <tbody>\n",
       "    <tr>\n",
       "      <th>0</th>\n",
       "      <td>mumicha minster ethiopian jawar mohammed  insh...</td>\n",
       "      <td>1</td>\n",
       "      <td>52</td>\n",
       "      <td>6</td>\n",
       "      <td>1</td>\n",
       "    </tr>\n",
       "    <tr>\n",
       "      <th>1</th>\n",
       "      <td>rabbiin dhabamaa si haa godhuu xalaatni tokko ...</td>\n",
       "      <td>0</td>\n",
       "      <td>168</td>\n",
       "      <td>26</td>\n",
       "      <td>1</td>\n",
       "    </tr>\n",
       "    <tr>\n",
       "      <th>2</th>\n",
       "      <td>kiyaa ajawaa dhagefachu jibee wly  walagaatii ...</td>\n",
       "      <td>0</td>\n",
       "      <td>92</td>\n",
       "      <td>13</td>\n",
       "      <td>1</td>\n",
       "    </tr>\n",
       "    <tr>\n",
       "      <th>3</th>\n",
       "      <td>dubartoonni oromoo dress qofa jijjiiradhaa paa...</td>\n",
       "      <td>1</td>\n",
       "      <td>81</td>\n",
       "      <td>10</td>\n",
       "      <td>1</td>\n",
       "    </tr>\n",
       "    <tr>\n",
       "      <th>4</th>\n",
       "      <td>omn dhabe midia  amara jelaa ilala turee namit...</td>\n",
       "      <td>1</td>\n",
       "      <td>79</td>\n",
       "      <td>13</td>\n",
       "      <td>1</td>\n",
       "    </tr>\n",
       "  </tbody>\n",
       "</table>\n",
       "</div>"
      ],
      "text/plain": [
       "                                                post  label  num_characters  \\\n",
       "0  mumicha minster ethiopian jawar mohammed  insh...      1              52   \n",
       "1  rabbiin dhabamaa si haa godhuu xalaatni tokko ...      0             168   \n",
       "2  kiyaa ajawaa dhagefachu jibee wly  walagaatii ...      0              92   \n",
       "3  dubartoonni oromoo dress qofa jijjiiradhaa paa...      1              81   \n",
       "4  omn dhabe midia  amara jelaa ilala turee namit...      1              79   \n",
       "\n",
       "   num_words  num_sentence  \n",
       "0          6             1  \n",
       "1         26             1  \n",
       "2         13             1  \n",
       "3         10             1  \n",
       "4         13             1  "
      ]
     },
     "execution_count": 31,
     "metadata": {},
     "output_type": "execute_result"
    }
   ],
   "source": [
    "#number of sentence and sentence tokenize\n",
    "Hate['num_sentence']=Hate['post'].apply(lambda x:len(nltk.sent_tokenize(x)))\n",
    "Hate.head()"
   ]
  },
  {
   "cell_type": "code",
   "execution_count": 32,
   "id": "409f5d9b",
   "metadata": {},
   "outputs": [
    {
     "data": {
      "text/html": [
       "<div>\n",
       "<style scoped>\n",
       "    .dataframe tbody tr th:only-of-type {\n",
       "        vertical-align: middle;\n",
       "    }\n",
       "\n",
       "    .dataframe tbody tr th {\n",
       "        vertical-align: top;\n",
       "    }\n",
       "\n",
       "    .dataframe thead th {\n",
       "        text-align: right;\n",
       "    }\n",
       "</style>\n",
       "<table border=\"1\" class=\"dataframe\">\n",
       "  <thead>\n",
       "    <tr style=\"text-align: right;\">\n",
       "      <th></th>\n",
       "      <th>num_characters</th>\n",
       "      <th>num_words</th>\n",
       "      <th>num_sentence</th>\n",
       "    </tr>\n",
       "  </thead>\n",
       "  <tbody>\n",
       "    <tr>\n",
       "      <th>count</th>\n",
       "      <td>3838.000000</td>\n",
       "      <td>3838.000000</td>\n",
       "      <td>3838.000000</td>\n",
       "    </tr>\n",
       "    <tr>\n",
       "      <th>mean</th>\n",
       "      <td>46.081813</td>\n",
       "      <td>6.729026</td>\n",
       "      <td>0.997394</td>\n",
       "    </tr>\n",
       "    <tr>\n",
       "      <th>std</th>\n",
       "      <td>42.762938</td>\n",
       "      <td>5.961657</td>\n",
       "      <td>0.050984</td>\n",
       "    </tr>\n",
       "    <tr>\n",
       "      <th>min</th>\n",
       "      <td>0.000000</td>\n",
       "      <td>0.000000</td>\n",
       "      <td>0.000000</td>\n",
       "    </tr>\n",
       "    <tr>\n",
       "      <th>25%</th>\n",
       "      <td>19.000000</td>\n",
       "      <td>3.000000</td>\n",
       "      <td>1.000000</td>\n",
       "    </tr>\n",
       "    <tr>\n",
       "      <th>50%</th>\n",
       "      <td>35.000000</td>\n",
       "      <td>5.000000</td>\n",
       "      <td>1.000000</td>\n",
       "    </tr>\n",
       "    <tr>\n",
       "      <th>75%</th>\n",
       "      <td>58.000000</td>\n",
       "      <td>8.000000</td>\n",
       "      <td>1.000000</td>\n",
       "    </tr>\n",
       "    <tr>\n",
       "      <th>max</th>\n",
       "      <td>669.000000</td>\n",
       "      <td>83.000000</td>\n",
       "      <td>1.000000</td>\n",
       "    </tr>\n",
       "  </tbody>\n",
       "</table>\n",
       "</div>"
      ],
      "text/plain": [
       "       num_characters    num_words  num_sentence\n",
       "count     3838.000000  3838.000000   3838.000000\n",
       "mean        46.081813     6.729026      0.997394\n",
       "std         42.762938     5.961657      0.050984\n",
       "min          0.000000     0.000000      0.000000\n",
       "25%         19.000000     3.000000      1.000000\n",
       "50%         35.000000     5.000000      1.000000\n",
       "75%         58.000000     8.000000      1.000000\n",
       "max        669.000000    83.000000      1.000000"
      ]
     },
     "execution_count": 32,
     "metadata": {},
     "output_type": "execute_result"
    }
   ],
   "source": [
    "#describe for the number of characters,num_words,num_sentence\n",
    "Hate[['num_characters','num_words','num_sentence']].describe()"
   ]
  },
  {
   "cell_type": "code",
   "execution_count": 33,
   "id": "a4eb7d83",
   "metadata": {},
   "outputs": [
    {
     "data": {
      "text/html": [
       "<div>\n",
       "<style scoped>\n",
       "    .dataframe tbody tr th:only-of-type {\n",
       "        vertical-align: middle;\n",
       "    }\n",
       "\n",
       "    .dataframe tbody tr th {\n",
       "        vertical-align: top;\n",
       "    }\n",
       "\n",
       "    .dataframe thead th {\n",
       "        text-align: right;\n",
       "    }\n",
       "</style>\n",
       "<table border=\"1\" class=\"dataframe\">\n",
       "  <thead>\n",
       "    <tr style=\"text-align: right;\">\n",
       "      <th></th>\n",
       "      <th>num_characters</th>\n",
       "      <th>num_words</th>\n",
       "      <th>num_sentence</th>\n",
       "    </tr>\n",
       "  </thead>\n",
       "  <tbody>\n",
       "    <tr>\n",
       "      <th>count</th>\n",
       "      <td>1405.000000</td>\n",
       "      <td>1405.000000</td>\n",
       "      <td>1405.000000</td>\n",
       "    </tr>\n",
       "    <tr>\n",
       "      <th>mean</th>\n",
       "      <td>55.757295</td>\n",
       "      <td>7.884698</td>\n",
       "      <td>0.997865</td>\n",
       "    </tr>\n",
       "    <tr>\n",
       "      <th>std</th>\n",
       "      <td>57.760115</td>\n",
       "      <td>7.862209</td>\n",
       "      <td>0.046176</td>\n",
       "    </tr>\n",
       "    <tr>\n",
       "      <th>min</th>\n",
       "      <td>3.000000</td>\n",
       "      <td>0.000000</td>\n",
       "      <td>0.000000</td>\n",
       "    </tr>\n",
       "    <tr>\n",
       "      <th>25%</th>\n",
       "      <td>19.000000</td>\n",
       "      <td>3.000000</td>\n",
       "      <td>1.000000</td>\n",
       "    </tr>\n",
       "    <tr>\n",
       "      <th>50%</th>\n",
       "      <td>38.000000</td>\n",
       "      <td>5.000000</td>\n",
       "      <td>1.000000</td>\n",
       "    </tr>\n",
       "    <tr>\n",
       "      <th>75%</th>\n",
       "      <td>69.000000</td>\n",
       "      <td>10.000000</td>\n",
       "      <td>1.000000</td>\n",
       "    </tr>\n",
       "    <tr>\n",
       "      <th>max</th>\n",
       "      <td>669.000000</td>\n",
       "      <td>83.000000</td>\n",
       "      <td>1.000000</td>\n",
       "    </tr>\n",
       "  </tbody>\n",
       "</table>\n",
       "</div>"
      ],
      "text/plain": [
       "       num_characters    num_words  num_sentence\n",
       "count     1405.000000  1405.000000   1405.000000\n",
       "mean        55.757295     7.884698      0.997865\n",
       "std         57.760115     7.862209      0.046176\n",
       "min          3.000000     0.000000      0.000000\n",
       "25%         19.000000     3.000000      1.000000\n",
       "50%         38.000000     5.000000      1.000000\n",
       "75%         69.000000    10.000000      1.000000\n",
       "max        669.000000    83.000000      1.000000"
      ]
     },
     "execution_count": 33,
     "metadata": {},
     "output_type": "execute_result"
    }
   ],
   "source": [
    "# Describe for the hate \n",
    "Hate[Hate['label']==0][['num_characters','num_words','num_sentence']].describe()"
   ]
  },
  {
   "cell_type": "code",
   "execution_count": 34,
   "id": "7c23230f",
   "metadata": {},
   "outputs": [
    {
     "data": {
      "text/html": [
       "<div>\n",
       "<style scoped>\n",
       "    .dataframe tbody tr th:only-of-type {\n",
       "        vertical-align: middle;\n",
       "    }\n",
       "\n",
       "    .dataframe tbody tr th {\n",
       "        vertical-align: top;\n",
       "    }\n",
       "\n",
       "    .dataframe thead th {\n",
       "        text-align: right;\n",
       "    }\n",
       "</style>\n",
       "<table border=\"1\" class=\"dataframe\">\n",
       "  <thead>\n",
       "    <tr style=\"text-align: right;\">\n",
       "      <th></th>\n",
       "      <th>num_characters</th>\n",
       "      <th>num_words</th>\n",
       "      <th>num_sentence</th>\n",
       "    </tr>\n",
       "  </thead>\n",
       "  <tbody>\n",
       "    <tr>\n",
       "      <th>count</th>\n",
       "      <td>2433.000000</td>\n",
       "      <td>2433.000000</td>\n",
       "      <td>2433.000000</td>\n",
       "    </tr>\n",
       "    <tr>\n",
       "      <th>mean</th>\n",
       "      <td>40.494451</td>\n",
       "      <td>6.061652</td>\n",
       "      <td>0.997123</td>\n",
       "    </tr>\n",
       "    <tr>\n",
       "      <th>std</th>\n",
       "      <td>29.559890</td>\n",
       "      <td>4.378511</td>\n",
       "      <td>0.053572</td>\n",
       "    </tr>\n",
       "    <tr>\n",
       "      <th>min</th>\n",
       "      <td>0.000000</td>\n",
       "      <td>0.000000</td>\n",
       "      <td>0.000000</td>\n",
       "    </tr>\n",
       "    <tr>\n",
       "      <th>25%</th>\n",
       "      <td>19.000000</td>\n",
       "      <td>3.000000</td>\n",
       "      <td>1.000000</td>\n",
       "    </tr>\n",
       "    <tr>\n",
       "      <th>50%</th>\n",
       "      <td>35.000000</td>\n",
       "      <td>5.000000</td>\n",
       "      <td>1.000000</td>\n",
       "    </tr>\n",
       "    <tr>\n",
       "      <th>75%</th>\n",
       "      <td>52.000000</td>\n",
       "      <td>8.000000</td>\n",
       "      <td>1.000000</td>\n",
       "    </tr>\n",
       "    <tr>\n",
       "      <th>max</th>\n",
       "      <td>225.000000</td>\n",
       "      <td>47.000000</td>\n",
       "      <td>1.000000</td>\n",
       "    </tr>\n",
       "  </tbody>\n",
       "</table>\n",
       "</div>"
      ],
      "text/plain": [
       "       num_characters    num_words  num_sentence\n",
       "count     2433.000000  2433.000000   2433.000000\n",
       "mean        40.494451     6.061652      0.997123\n",
       "std         29.559890     4.378511      0.053572\n",
       "min          0.000000     0.000000      0.000000\n",
       "25%         19.000000     3.000000      1.000000\n",
       "50%         35.000000     5.000000      1.000000\n",
       "75%         52.000000     8.000000      1.000000\n",
       "max        225.000000    47.000000      1.000000"
      ]
     },
     "execution_count": 34,
     "metadata": {},
     "output_type": "execute_result"
    }
   ],
   "source": [
    "# Describe for the normal \n",
    "Hate[Hate['label']==1][['num_characters','num_words','num_sentence']].describe()"
   ]
  },
  {
   "cell_type": "code",
   "execution_count": 35,
   "id": "bd7c3fa6",
   "metadata": {},
   "outputs": [],
   "source": [
    "import seaborn as sns"
   ]
  },
  {
   "cell_type": "code",
   "execution_count": 36,
   "id": "0fe77113",
   "metadata": {},
   "outputs": [
    {
     "data": {
      "text/plain": [
       "<AxesSubplot:xlabel='num_characters', ylabel='Count'>"
      ]
     },
     "execution_count": 36,
     "metadata": {},
     "output_type": "execute_result"
    },
    {
     "data": {
      "image/png": "[encoded data removed]",
      "text/plain": [
       "<Figure size 864x432 with 1 Axes>"
      ]
     },
     "metadata": {
      "needs_background": "light"
     },
     "output_type": "display_data"
    }
   ],
   "source": [
    "plt.figure(figsize=((12,6)))\n",
    "sns.histplot(Hate[Hate['label']==0]['num_characters'])\n",
    "sns.histplot(Hate[Hate['label']==1]['num_characters'],color='red')"
   ]
  },
  {
   "cell_type": "code",
   "execution_count": 37,
   "id": "1e659255",
   "metadata": {},
   "outputs": [
    {
     "data": {
      "text/plain": [
       "<AxesSubplot:xlabel='num_words', ylabel='Count'>"
      ]
     },
     "execution_count": 37,
     "metadata": {},
     "output_type": "execute_result"
    },
    {
     "data": {
      "image/png": "[encoded data removed]",
      "text/plain": [
       "<Figure size 864x432 with 1 Axes>"
      ]
     },
     "metadata": {
      "needs_background": "light"
     },
     "output_type": "display_data"
    }
   ],
   "source": [
    "plt.figure(figsize=((12,6)))\n",
    "sns.histplot(Hate[Hate['label']==0]['num_words'])\n",
    "sns.histplot(Hate[Hate['label']==1]['num_words'],color='red')"
   ]
  },
  {
   "cell_type": "code",
   "execution_count": 38,
   "id": "db12cb26",
   "metadata": {},
   "outputs": [
    {
     "data": {
      "text/plain": [
       "<seaborn.axisgrid.PairGrid at 0x2522d063820>"
      ]
     },
     "execution_count": 38,
     "metadata": {},
     "output_type": "execute_result"
    },
    {
     "data": {
      "image/png": "[encoded data removed]",
      "text/plain": [
       "<Figure size 582.375x540 with 12 Axes>"
      ]
     },
     "metadata": {
      "needs_background": "light"
     },
     "output_type": "display_data"
    }
   ],
   "source": [
    "#correlation \n",
    "sns.pairplot(Hate,hue='label')"
   ]
  },
  {
   "cell_type": "code",
   "execution_count": 39,
   "id": "554474f0",
   "metadata": {},
   "outputs": [
    {
     "data": {
      "text/plain": [
       "<AxesSubplot:>"
      ]
     },
     "execution_count": 39,
     "metadata": {},
     "output_type": "execute_result"
    },
    {
     "data": {
      "image/png": "[encoded data removed]",
      "text/plain": [
       "<Figure size 432x288 with 2 Axes>"
      ]
     },
     "metadata": {
      "needs_background": "light"
     },
     "output_type": "display_data"
    }
   ],
   "source": [
    "#correlation coeffecient\n",
    "sns.heatmap(Hate.corr(),annot=True)"
   ]
  },
  {
   "cell_type": "markdown",
   "id": "f9c4abff",
   "metadata": {},
   "source": [
    "3.DATA PREPROCESSING\n",
    "lower case\n",
    "Tokenization\n",
    "Removing special characters\n",
    "Removing stop words and punctuation\n",
    "stemming"
   ]
  },
  {
   "cell_type": "code",
   "execution_count": 40,
   "id": "2a9fe599",
   "metadata": {},
   "outputs": [
    {
     "data": {
      "text/plain": [
       "'love'"
      ]
     },
     "execution_count": 40,
     "metadata": {},
     "output_type": "execute_result"
    }
   ],
   "source": [
    "from nltk.stem.porter import PorterStemmer\n",
    "ps=PorterStemmer()\n",
    "ps.stem(\"loving\")"
   ]
  },
  {
   "cell_type": "code",
   "execution_count": 41,
   "id": "0d1acf50",
   "metadata": {},
   "outputs": [],
   "source": [
    "#change the text to the lower case and removing the special character\n",
    "def transform_text(text):\n",
    "    text=text.lower()\n",
    "    text=nltk.word_tokenize(text)\n",
    "    y=[]\n",
    "    for i in text:\n",
    "        if i.isalnum():\n",
    "            y.append(i)\n",
    "        text=y[:]\n",
    "        y.clear()\n",
    "        for i in text:\n",
    "            if i not in stopwords.words('oromiffa')and i not in string.punctuation:\n",
    "                y.append(i)\n",
    "        text=y[:]\n",
    "        y.clear()\n",
    "        for i in text:\n",
    "                    y.append(ps.stem(i))\n",
    "    return \" \".join(y) \n",
    "    "
   ]
  },
  {
   "cell_type": "code",
   "execution_count": 42,
   "id": "065e99f6",
   "metadata": {},
   "outputs": [
    {
     "name": "stdout",
     "output_type": "stream",
     "text": [
      "['aanee', 'gidduu', 'itti', 'narraa', 'akka', 'gubbaa', 'ittuu', 'natti', 'akkam', 'hanga ', 'jala', 'nu', 'akkasumas', 'henna', 'jara', 'nurraa', 'akkuma', 'hogguu', 'sana', 'nuti', 'ala', 'illee', 'kan', 'siin', 'alatti', 'immoo', 'kana', 'silaa', 'amma', 'inni', 'kanaafi', 'kanaaf', 'sitti', 'ammo', 'irra', 'kanaafuu', 'sun', 'an', 'isaa', 'kee', 'tanaaf', 'ani', 'isaaf', 'keenna', 'tanaafuu', 'ati', 'isaanirraa', 'keessa', 'ta‟ullee', 'bira', 'isatti', 'keessan', 'teenya', 'booda', 'tun', 'keenya', 'utuu', 'booddee', 'iseen', 'keessatti', 'waan', 'dura', 'ishii', 'kiyya', 'warra', 'duuba', 'ishiif', 'koo', 'yeroo', 'eega', 'ishiirraa', 'kun', 'yommuu', 'eegasii', 'isii', 'malee', 'yoo', 'fi', 'isin', 'na', 'yookaan', 'gama', 'isiin', 'naaf', 'yoom', 'kun']\n"
     ]
    }
   ],
   "source": [
    "import nltk\n",
    "from nltk.corpus import stopwords\n",
    "STOPWORDS = stopwords.words('oromiffa')\n",
    "print(STOPWORDS)"
   ]
  },
  {
   "cell_type": "code",
   "execution_count": 43,
   "id": "30212212",
   "metadata": {},
   "outputs": [
    {
     "data": {
      "text/plain": [
       "'!\"#$%&\\'()*+,-./:;<=>?@[\\\\]^_`{|}~'"
      ]
     },
     "execution_count": 43,
     "metadata": {},
     "output_type": "execute_result"
    }
   ],
   "source": [
    "import string\n",
    "string.punctuation"
   ]
  },
  {
   "cell_type": "code",
   "execution_count": 44,
   "id": "0e795697",
   "metadata": {},
   "outputs": [
    {
     "data": {
      "text/plain": [
       "'qoyii dhaltun kuulloo abichu abichu jete maa maratii waa qabasi moo kaa akntii jaraa marachufi'"
      ]
     },
     "execution_count": 44,
     "metadata": {},
     "output_type": "execute_result"
    }
   ],
   "source": [
    "# example\n",
    "transform_text('qoyii dhaltun kuulloo abichu abichu jetee maa maratii waa qabasisee moo kaa akntii jaraa marachufi ')\n"
   ]
  },
  {
   "cell_type": "code",
   "execution_count": 45,
   "id": "6090bf7f",
   "metadata": {},
   "outputs": [
    {
     "data": {
      "text/plain": [
       "'qoyii dhaltun kuulloo abichu abichu jetee maa maratii waa qabasisee moo kaa akntii jaraa marachufi '"
      ]
     },
     "execution_count": 45,
     "metadata": {},
     "output_type": "execute_result"
    }
   ],
   "source": [
    "Hate['post'][10]"
   ]
  },
  {
   "cell_type": "code",
   "execution_count": 46,
   "id": "ae2f23ee",
   "metadata": {},
   "outputs": [],
   "source": [
    "Hate['transformed_text']=Hate['post'].apply(transform_text)"
   ]
  },
  {
   "cell_type": "code",
   "execution_count": 47,
   "id": "2018b3b2",
   "metadata": {},
   "outputs": [
    {
     "data": {
      "text/html": [
       "<div>\n",
       "<style scoped>\n",
       "    .dataframe tbody tr th:only-of-type {\n",
       "        vertical-align: middle;\n",
       "    }\n",
       "\n",
       "    .dataframe tbody tr th {\n",
       "        vertical-align: top;\n",
       "    }\n",
       "\n",
       "    .dataframe thead th {\n",
       "        text-align: right;\n",
       "    }\n",
       "</style>\n",
       "<table border=\"1\" class=\"dataframe\">\n",
       "  <thead>\n",
       "    <tr style=\"text-align: right;\">\n",
       "      <th></th>\n",
       "      <th>post</th>\n",
       "      <th>label</th>\n",
       "      <th>num_characters</th>\n",
       "      <th>num_words</th>\n",
       "      <th>num_sentence</th>\n",
       "      <th>transformed_text</th>\n",
       "    </tr>\n",
       "  </thead>\n",
       "  <tbody>\n",
       "    <tr>\n",
       "      <th>0</th>\n",
       "      <td>mumicha minster ethiopian jawar mohammed  insh...</td>\n",
       "      <td>1</td>\n",
       "      <td>52</td>\n",
       "      <td>6</td>\n",
       "      <td>1</td>\n",
       "      <td>mumicha minster ethiopian jawar moham inshallah</td>\n",
       "    </tr>\n",
       "    <tr>\n",
       "      <th>1</th>\n",
       "      <td>rabbiin dhabamaa si haa godhuu xalaatni tokko ...</td>\n",
       "      <td>0</td>\n",
       "      <td>168</td>\n",
       "      <td>26</td>\n",
       "      <td>1</td>\n",
       "      <td>rabbiin dhabamaa si haa godhuu xalaatni tokko ...</td>\n",
       "    </tr>\n",
       "    <tr>\n",
       "      <th>2</th>\n",
       "      <td>kiyaa ajawaa dhagefachu jibee wly  walagaatii ...</td>\n",
       "      <td>0</td>\n",
       "      <td>92</td>\n",
       "      <td>13</td>\n",
       "      <td>1</td>\n",
       "      <td>kiyaa ajawaa dhagefachu jibe wli walagaatii il...</td>\n",
       "    </tr>\n",
       "    <tr>\n",
       "      <th>3</th>\n",
       "      <td>dubartoonni oromoo dress qofa jijjiiradhaa paa...</td>\n",
       "      <td>1</td>\n",
       "      <td>81</td>\n",
       "      <td>10</td>\n",
       "      <td>1</td>\n",
       "      <td>dubartoonni oromoo dress qofa jijjiiradhaa paa...</td>\n",
       "    </tr>\n",
       "    <tr>\n",
       "      <th>4</th>\n",
       "      <td>omn dhabe midia  amara jelaa ilala turee namit...</td>\n",
       "      <td>1</td>\n",
       "      <td>79</td>\n",
       "      <td>13</td>\n",
       "      <td>1</td>\n",
       "      <td>omn dhabe midia amara jelaa ilala ture namiti ...</td>\n",
       "    </tr>\n",
       "  </tbody>\n",
       "</table>\n",
       "</div>"
      ],
      "text/plain": [
       "                                                post  label  num_characters  \\\n",
       "0  mumicha minster ethiopian jawar mohammed  insh...      1              52   \n",
       "1  rabbiin dhabamaa si haa godhuu xalaatni tokko ...      0             168   \n",
       "2  kiyaa ajawaa dhagefachu jibee wly  walagaatii ...      0              92   \n",
       "3  dubartoonni oromoo dress qofa jijjiiradhaa paa...      1              81   \n",
       "4  omn dhabe midia  amara jelaa ilala turee namit...      1              79   \n",
       "\n",
       "   num_words  num_sentence                                   transformed_text  \n",
       "0          6             1    mumicha minster ethiopian jawar moham inshallah  \n",
       "1         26             1  rabbiin dhabamaa si haa godhuu xalaatni tokko ...  \n",
       "2         13             1  kiyaa ajawaa dhagefachu jibe wli walagaatii il...  \n",
       "3         10             1  dubartoonni oromoo dress qofa jijjiiradhaa paa...  \n",
       "4         13             1  omn dhabe midia amara jelaa ilala ture namiti ...  "
      ]
     },
     "execution_count": 47,
     "metadata": {},
     "output_type": "execute_result"
    }
   ],
   "source": [
    "Hate.head()"
   ]
  },
  {
   "cell_type": "code",
   "execution_count": 48,
   "id": "58f1390b",
   "metadata": {},
   "outputs": [
    {
     "name": "stdout",
     "output_type": "stream",
     "text": [
      "Requirement already satisfied: WordCloud in c:\\users\\asme\\anaconda3\\lib\\site-packages (1.8.2.2)\n",
      "Requirement already satisfied: numpy>=1.6.1 in c:\\users\\asme\\anaconda3\\lib\\site-packages (from WordCloud) (1.20.3)\n",
      "Requirement already satisfied: matplotlib in c:\\users\\asme\\anaconda3\\lib\\site-packages (from WordCloud) (3.4.3)\n",
      "Requirement already satisfied: pillow in c:\\users\\asme\\anaconda3\\lib\\site-packages (from WordCloud) (8.4.0)\n",
      "Requirement already satisfied: cycler>=0.10 in c:\\users\\asme\\anaconda3\\lib\\site-packages (from matplotlib->WordCloud) (0.10.0)\n",
      "Requirement already satisfied: python-dateutil>=2.7 in c:\\users\\asme\\anaconda3\\lib\\site-packages (from matplotlib->WordCloud) (2.8.2)\n",
      "Requirement already satisfied: kiwisolver>=1.0.1 in c:\\users\\asme\\anaconda3\\lib\\site-packages (from matplotlib->WordCloud) (1.3.1)\n",
      "Requirement already satisfied: pyparsing>=2.2.1 in c:\\users\\asme\\anaconda3\\lib\\site-packages (from matplotlib->WordCloud) (3.0.4)\n",
      "Requirement already satisfied: six in c:\\users\\asme\\anaconda3\\lib\\site-packages (from cycler>=0.10->matplotlib->WordCloud) (1.16.0)\n"
     ]
    }
   ],
   "source": [
    "!pip install WordCloud"
   ]
  },
  {
   "cell_type": "code",
   "execution_count": 49,
   "id": "4da7db60",
   "metadata": {},
   "outputs": [],
   "source": [
    "from wordcloud import WordCloud\n",
    "wc=WordCloud(width=500,height=500,min_font_size=10,background_color=\"white\")"
   ]
  },
  {
   "cell_type": "code",
   "execution_count": 50,
   "id": "5b23591d",
   "metadata": {},
   "outputs": [],
   "source": [
    "normal_wc=wc.generate(Hate[Hate['label']==1]['transformed_text'].str.cat(sep=\" \"))"
   ]
  },
  {
   "cell_type": "code",
   "execution_count": 51,
   "id": "5c4d1320",
   "metadata": {},
   "outputs": [
    {
     "data": {
      "text/plain": [
       "<matplotlib.image.AxesImage at 0x2522e01abb0>"
      ]
     },
     "execution_count": 51,
     "metadata": {},
     "output_type": "execute_result"
    },
    {
     "data": {
      "image/png": "[encoded data removed]",
      "text/plain": [
       "<Figure size 864x432 with 1 Axes>"
      ]
     },
     "metadata": {
      "needs_background": "light"
     },
     "output_type": "display_data"
    }
   ],
   "source": [
    "plt.figure(figsize=(12,6))\n",
    "plt.imshow(normal_wc)"
   ]
  },
  {
   "cell_type": "code",
   "execution_count": 52,
   "id": "10d0a762",
   "metadata": {},
   "outputs": [
    {
     "data": {
      "text/plain": [
       "<matplotlib.image.AxesImage at 0x2522dfd25b0>"
      ]
     },
     "execution_count": 52,
     "metadata": {},
     "output_type": "execute_result"
    },
    {
     "data": {
      "image/png": "[encoded data removed]",
      "text/plain": [
       "<Figure size 864x432 with 1 Axes>"
      ]
     },
     "metadata": {
      "needs_background": "light"
     },
     "output_type": "display_data"
    }
   ],
   "source": [
    "hate_wc=wc.generate(Hate[Hate['label']==0]['transformed_text'].str.cat(sep=\" \"))\n",
    "plt.figure(figsize=(12,6))\n",
    "plt.imshow(hate_wc)"
   ]
  },
  {
   "cell_type": "code",
   "execution_count": 53,
   "id": "3fae6301",
   "metadata": {},
   "outputs": [
    {
     "data": {
      "text/html": [
       "<div>\n",
       "<style scoped>\n",
       "    .dataframe tbody tr th:only-of-type {\n",
       "        vertical-align: middle;\n",
       "    }\n",
       "\n",
       "    .dataframe tbody tr th {\n",
       "        vertical-align: top;\n",
       "    }\n",
       "\n",
       "    .dataframe thead th {\n",
       "        text-align: right;\n",
       "    }\n",
       "</style>\n",
       "<table border=\"1\" class=\"dataframe\">\n",
       "  <thead>\n",
       "    <tr style=\"text-align: right;\">\n",
       "      <th></th>\n",
       "      <th>post</th>\n",
       "      <th>label</th>\n",
       "      <th>num_characters</th>\n",
       "      <th>num_words</th>\n",
       "      <th>num_sentence</th>\n",
       "      <th>transformed_text</th>\n",
       "    </tr>\n",
       "  </thead>\n",
       "  <tbody>\n",
       "    <tr>\n",
       "      <th>0</th>\n",
       "      <td>mumicha minster ethiopian jawar mohammed  insh...</td>\n",
       "      <td>1</td>\n",
       "      <td>52</td>\n",
       "      <td>6</td>\n",
       "      <td>1</td>\n",
       "      <td>mumicha minster ethiopian jawar moham inshallah</td>\n",
       "    </tr>\n",
       "    <tr>\n",
       "      <th>1</th>\n",
       "      <td>rabbiin dhabamaa si haa godhuu xalaatni tokko ...</td>\n",
       "      <td>0</td>\n",
       "      <td>168</td>\n",
       "      <td>26</td>\n",
       "      <td>1</td>\n",
       "      <td>rabbiin dhabamaa si haa godhuu xalaatni tokko ...</td>\n",
       "    </tr>\n",
       "    <tr>\n",
       "      <th>2</th>\n",
       "      <td>kiyaa ajawaa dhagefachu jibee wly  walagaatii ...</td>\n",
       "      <td>0</td>\n",
       "      <td>92</td>\n",
       "      <td>13</td>\n",
       "      <td>1</td>\n",
       "      <td>kiyaa ajawaa dhagefachu jibe wli walagaatii il...</td>\n",
       "    </tr>\n",
       "    <tr>\n",
       "      <th>3</th>\n",
       "      <td>dubartoonni oromoo dress qofa jijjiiradhaa paa...</td>\n",
       "      <td>1</td>\n",
       "      <td>81</td>\n",
       "      <td>10</td>\n",
       "      <td>1</td>\n",
       "      <td>dubartoonni oromoo dress qofa jijjiiradhaa paa...</td>\n",
       "    </tr>\n",
       "    <tr>\n",
       "      <th>4</th>\n",
       "      <td>omn dhabe midia  amara jelaa ilala turee namit...</td>\n",
       "      <td>1</td>\n",
       "      <td>79</td>\n",
       "      <td>13</td>\n",
       "      <td>1</td>\n",
       "      <td>omn dhabe midia amara jelaa ilala ture namiti ...</td>\n",
       "    </tr>\n",
       "  </tbody>\n",
       "</table>\n",
       "</div>"
      ],
      "text/plain": [
       "                                                post  label  num_characters  \\\n",
       "0  mumicha minster ethiopian jawar mohammed  insh...      1              52   \n",
       "1  rabbiin dhabamaa si haa godhuu xalaatni tokko ...      0             168   \n",
       "2  kiyaa ajawaa dhagefachu jibee wly  walagaatii ...      0              92   \n",
       "3  dubartoonni oromoo dress qofa jijjiiradhaa paa...      1              81   \n",
       "4  omn dhabe midia  amara jelaa ilala turee namit...      1              79   \n",
       "\n",
       "   num_words  num_sentence                                   transformed_text  \n",
       "0          6             1    mumicha minster ethiopian jawar moham inshallah  \n",
       "1         26             1  rabbiin dhabamaa si haa godhuu xalaatni tokko ...  \n",
       "2         13             1  kiyaa ajawaa dhagefachu jibe wli walagaatii il...  \n",
       "3         10             1  dubartoonni oromoo dress qofa jijjiiradhaa paa...  \n",
       "4         13             1  omn dhabe midia amara jelaa ilala ture namiti ...  "
      ]
     },
     "execution_count": 53,
     "metadata": {},
     "output_type": "execute_result"
    }
   ],
   "source": [
    "Hate.head()"
   ]
  },
  {
   "cell_type": "code",
   "execution_count": 54,
   "id": "9bb8043a",
   "metadata": {},
   "outputs": [],
   "source": [
    "normal_corpus=[]\n",
    "for msg in Hate[Hate['label']==1]['transformed_text'].tolist():\n",
    "    for word in msg.split():\n",
    "        normal_corpus.append(word)"
   ]
  },
  {
   "cell_type": "code",
   "execution_count": 55,
   "id": "a10b30c8",
   "metadata": {},
   "outputs": [
    {
     "data": {
      "text/plain": [
       "14734"
      ]
     },
     "execution_count": 55,
     "metadata": {},
     "output_type": "execute_result"
    }
   ],
   "source": [
    "len(normal_corpus)"
   ]
  },
  {
   "cell_type": "code",
   "execution_count": 56,
   "id": "384b7993",
   "metadata": {},
   "outputs": [
    {
     "name": "stdout",
     "output_type": "stream",
     "text": [
      "Requirement already satisfied: collection in c:\\users\\asme\\anaconda3\\lib\\site-packages (0.1.6)\n"
     ]
    }
   ],
   "source": [
    "!pip install collection"
   ]
  },
  {
   "cell_type": "code",
   "execution_count": 57,
   "id": "f9505cb6",
   "metadata": {},
   "outputs": [
    {
     "name": "stderr",
     "output_type": "stream",
     "text": [
      "C:\\Users\\ASME\\anaconda3\\lib\\site-packages\\seaborn\\_decorators.py:36: FutureWarning: Pass the following variables as keyword args: x, y. From version 0.12, the only valid positional argument will be `data`, and passing other arguments without an explicit keyword will result in an error or misinterpretation.\n",
      "  warnings.warn(\n"
     ]
    },
    {
     "data": {
      "image/png": "[encoded data removed]",
      "text/plain": [
       "<Figure size 432x288 with 1 Axes>"
      ]
     },
     "metadata": {
      "needs_background": "light"
     },
     "output_type": "display_data"
    }
   ],
   "source": [
    "#those are the most common normal common text from the corpus\n",
    "from collections import Counter\n",
    "sns.barplot(pd.DataFrame(Counter(normal_corpus).most_common(30))[0],pd.DataFrame(Counter(normal_corpus).most_common(30))[1])\n",
    "plt.xticks(rotation='vertical')\n",
    "plt.show()"
   ]
  },
  {
   "cell_type": "code",
   "execution_count": 58,
   "id": "fbd33f61",
   "metadata": {},
   "outputs": [],
   "source": [
    "hate_corpus=[]\n",
    "for msg in Hate[Hate['label']==0]['transformed_text'].tolist():\n",
    "    for word in msg.split():\n",
    "        hate_corpus.append(word)"
   ]
  },
  {
   "cell_type": "code",
   "execution_count": 59,
   "id": "f6293be2",
   "metadata": {},
   "outputs": [
    {
     "data": {
      "text/plain": [
       "11060"
      ]
     },
     "execution_count": 59,
     "metadata": {},
     "output_type": "execute_result"
    }
   ],
   "source": [
    "len(hate_corpus)"
   ]
  },
  {
   "cell_type": "code",
   "execution_count": 60,
   "id": "a7bdc40b",
   "metadata": {},
   "outputs": [
    {
     "name": "stderr",
     "output_type": "stream",
     "text": [
      "C:\\Users\\ASME\\anaconda3\\lib\\site-packages\\seaborn\\_decorators.py:36: FutureWarning: Pass the following variables as keyword args: x, y. From version 0.12, the only valid positional argument will be `data`, and passing other arguments without an explicit keyword will result in an error or misinterpretation.\n",
      "  warnings.warn(\n"
     ]
    },
    {
     "data": {
      "image/png": "[encoded data removed]",
      "text/plain": [
       "<Figure size 432x288 with 1 Axes>"
      ]
     },
     "metadata": {
      "needs_background": "light"
     },
     "output_type": "display_data"
    }
   ],
   "source": [
    "#those are the most common hate common text from the corpus\n",
    "from collections import Counter\n",
    "sns.barplot(pd.DataFrame(Counter(hate_corpus).most_common(30))[0],pd.DataFrame(Counter(hate_corpus).most_common(30))[1])\n",
    "plt.xticks(rotation='vertical')\n",
    "plt.show()"
   ]
  },
  {
   "cell_type": "markdown",
   "id": "d3a2bb1d",
   "metadata": {},
   "source": [
    "4.MODEL BUILDING"
   ]
  },
  {
   "cell_type": "code",
   "execution_count": 61,
   "id": "d9e4e270",
   "metadata": {},
   "outputs": [],
   "source": [
    "from sklearn.feature_extraction.text import CountVectorizer,TfidfVectorizer\n",
    "cv=CountVectorizer()\n",
    "tfidf=TfidfVectorizer()"
   ]
  },
  {
   "cell_type": "code",
   "execution_count": 62,
   "id": "e5c4f941",
   "metadata": {},
   "outputs": [],
   "source": [
    "x=cv.fit_transform(Hate['transformed_text']).toarray()"
   ]
  },
  {
   "cell_type": "code",
   "execution_count": 63,
   "id": "e819018e",
   "metadata": {},
   "outputs": [
    {
     "data": {
      "text/plain": [
       "(3838, 10538)"
      ]
     },
     "execution_count": 63,
     "metadata": {},
     "output_type": "execute_result"
    }
   ],
   "source": [
    "x.shape"
   ]
  },
  {
   "cell_type": "code",
   "execution_count": 64,
   "id": "fb062435",
   "metadata": {},
   "outputs": [],
   "source": [
    "y=Hate['label'].values"
   ]
  },
  {
   "cell_type": "code",
   "execution_count": 65,
   "id": "3617a871",
   "metadata": {},
   "outputs": [
    {
     "data": {
      "text/plain": [
       "array([1, 0, 0, ..., 0, 0, 0])"
      ]
     },
     "execution_count": 65,
     "metadata": {},
     "output_type": "execute_result"
    }
   ],
   "source": [
    "y"
   ]
  },
  {
   "cell_type": "code",
   "execution_count": 66,
   "id": "0b8502ef",
   "metadata": {},
   "outputs": [],
   "source": [
    "# for splitting dataset into train set and test set\n",
    "from sklearn.model_selection import train_test_split\n",
    "x_train, x_test,y_train, y_test = train_test_split(x,y,test_size=0.2, random_state = 20)"
   ]
  },
  {
   "cell_type": "code",
   "execution_count": 67,
   "id": "722d5c57",
   "metadata": {},
   "outputs": [],
   "source": [
    "from sklearn.neighbors import KNeighborsClassifier\n",
    "from sklearn.svm import SVC\n",
    "from sklearn.tree import DecisionTreeClassifier\n",
    "from sklearn.naive_bayes import GaussianNB\n",
    "from sklearn.ensemble import RandomForestClassifier\n",
    "from sklearn.ensemble import AdaBoostClassifier\n",
    "from sklearn.ensemble import BaggingClassifier\n",
    "from sklearn.ensemble import ExtraTreesClassifier\n",
    "from sklearn.ensemble import GradientBoostingClassifier\n",
    "from xgboost import XGBClassifier\n"
   ]
  },
  {
   "cell_type": "code",
   "execution_count": 68,
   "id": "470c34a0",
   "metadata": {},
   "outputs": [],
   "source": [
    "DT=DecisionTreeClassifier(max_depth=5)\n",
    "Gnb=GaussianNB()\n",
    "Svm=SVC(kernel='sigmoid',gamma=1.0)\n",
    "Knn=KNeighborsClassifier()\n",
    "Rf=RandomForestClassifier(n_estimators = 50, random_state = 2)\n",
    "Ad=AdaBoostClassifier(n_estimators = 50, random_state = 2)\n",
    "B=BaggingClassifier(n_estimators = 50, random_state = 2)\n",
    "E=ExtraTreesClassifier(n_estimators = 50, random_state = 2)\n",
    "G=GradientBoostingClassifier(n_estimators = 50, random_state = 2)\n",
    "X=XGBClassifier(n_estimators = 50, random_state = 2)\n"
   ]
  },
  {
   "cell_type": "code",
   "execution_count": 69,
   "id": "566855c2",
   "metadata": {},
   "outputs": [],
   "source": [
    "DT.fit(x_train,y_train)\n",
    "DT_pred=DT.predict(x_test)\n",
    "Gnb.fit(x_train,y_train)\n",
    "Gnb_pred=Gnb.predict(x_test)\n",
    "Svm.fit(x_train,y_train)\n",
    "Svm_pred=Svm.predict(x_test)\n",
    "Knn.fit(x_train,y_train)\n",
    "Knn_pred=Knn.predict(x_test)\n",
    "Rf.fit(x_train,y_train)\n",
    "Rf_pred=Rf.predict(x_test)\n",
    "Ad.fit(x_train,y_train)\n",
    "Ad_pred=Ad.predict(x_test)\n",
    "B.fit(x_train,y_train)\n",
    "B_pred=B.predict(x_test)\n",
    "E.fit(x_train,y_train)\n",
    "E_pred=E.predict(x_test)\n",
    "G.fit(x_train,y_train)\n",
    "G_pred=G.predict(x_test)\n",
    "X.fit(x_train,y_train)\n",
    "X_pred=G.predict(x_test)\n"
   ]
  },
  {
   "cell_type": "code",
   "execution_count": 70,
   "id": "2ca5d37f",
   "metadata": {},
   "outputs": [
    {
     "name": "stdout",
     "output_type": "stream",
     "text": [
      "accuracy_score of Nearest_Neighbors 0.62890625\n",
      "accuracy_score of Suport Vector Machines 0.6979166666666666\n",
      "accuracy_score of Decision Tree 0.6770833333333334\n",
      "accuracy_score of Naive_Bayes 0.5494791666666666\n",
      "accuracy_score of RandomForest 0.76953125\n",
      "accuracy_score of Adaboosting classifier 0.7421875\n",
      "accuracy_score of BaggingClassifier 0.7513020833333334\n",
      "accuracy_score of ExtraTrees Classifier 0.7578125\n",
      "accuracy_score of GradientBoostingClassifier 0.7057291666666666\n",
      "accuracy_score of XGBC 0.7057291666666666\n"
     ]
    }
   ],
   "source": [
    "print(\"accuracy_score of Nearest_Neighbors\",accuracy_score(y_test,Knn_pred))\n",
    "print(\"accuracy_score of Suport Vector Machines\",accuracy_score(y_test,Svm_pred))\n",
    "print(\"accuracy_score of Decision Tree\",accuracy_score(y_test,DT_pred))\n",
    "print(\"accuracy_score of Naive_Bayes\",accuracy_score(y_test,Gnb_pred))\n",
    "print(\"accuracy_score of RandomForest\",accuracy_score(y_test,Rf_pred))\n",
    "print(\"accuracy_score of Adaboosting classifier\",accuracy_score(y_test,Ad_pred))\n",
    "print(\"accuracy_score of BaggingClassifier\",accuracy_score(y_test,B_pred))\n",
    "print(\"accuracy_score of ExtraTrees Classifier\",accuracy_score(y_test,E_pred))\n",
    "print(\"accuracy_score of GradientBoostingClassifier\",accuracy_score(y_test,G_pred))\n",
    "print(\"accuracy_score of XGBC\",accuracy_score(y_test,X_pred))"
   ]
  },
  {
   "cell_type": "code",
   "execution_count": 71,
   "id": "bc143fe0",
   "metadata": {},
   "outputs": [
    {
     "name": "stdout",
     "output_type": "stream",
     "text": [
      "\n",
      "Classification report for K-Nearest Neighbor\n",
      "              precision    recall  f1-score   support\n",
      "\n",
      "           0       0.48      0.37      0.41       275\n",
      "           1       0.69      0.77      0.73       493\n",
      "\n",
      "    accuracy                           0.63       768\n",
      "   macro avg       0.58      0.57      0.57       768\n",
      "weighted avg       0.61      0.63      0.62       768\n",
      "\n"
     ]
    }
   ],
   "source": [
    "from sklearn.metrics import classification_report, confusion_matrix\n",
    "from sklearn.metrics import confusion_matrix\n",
    "print(\"\\nClassification report for K-Nearest Neighbor\") \n",
    "print(classification_report(y_test,Knn_pred))"
   ]
  },
  {
   "cell_type": "code",
   "execution_count": 72,
   "id": "17a2858d",
   "metadata": {},
   "outputs": [
    {
     "name": "stdout",
     "output_type": "stream",
     "text": [
      "\n",
      "Classification report for Suport Vector Machines\n",
      "              precision    recall  f1-score   support\n",
      "\n",
      "           0       0.59      0.52      0.55       275\n",
      "           1       0.75      0.80      0.77       493\n",
      "\n",
      "    accuracy                           0.70       768\n",
      "   macro avg       0.67      0.66      0.66       768\n",
      "weighted avg       0.69      0.70      0.69       768\n",
      "\n"
     ]
    }
   ],
   "source": [
    "print(\"\\nClassification report for Suport Vector Machines\") \n",
    "print(classification_report(y_test,Svm_pred))"
   ]
  },
  {
   "cell_type": "code",
   "execution_count": 73,
   "id": "994b6f7d",
   "metadata": {},
   "outputs": [
    {
     "name": "stdout",
     "output_type": "stream",
     "text": [
      "\n",
      "Classification report for Decision Tree\n",
      "              precision    recall  f1-score   support\n",
      "\n",
      "           0       0.72      0.16      0.26       275\n",
      "           1       0.67      0.97      0.79       493\n",
      "\n",
      "    accuracy                           0.68       768\n",
      "   macro avg       0.70      0.56      0.53       768\n",
      "weighted avg       0.69      0.68      0.60       768\n",
      "\n"
     ]
    }
   ],
   "source": [
    "print(\"\\nClassification report for Decision Tree\") \n",
    "print(classification_report(y_test,DT_pred))"
   ]
  },
  {
   "cell_type": "code",
   "execution_count": 74,
   "id": "3935f43c",
   "metadata": {},
   "outputs": [
    {
     "name": "stdout",
     "output_type": "stream",
     "text": [
      "\n",
      "Classification report for Naive Bayes\n",
      "              precision    recall  f1-score   support\n",
      "\n",
      "           0       0.43      0.81      0.56       275\n",
      "           1       0.80      0.40      0.53       493\n",
      "\n",
      "    accuracy                           0.55       768\n",
      "   macro avg       0.61      0.61      0.55       768\n",
      "weighted avg       0.66      0.55      0.54       768\n",
      "\n"
     ]
    }
   ],
   "source": [
    "print(\"\\nClassification report for Naive Bayes\") \n",
    "print(classification_report(y_test,Gnb_pred))"
   ]
  },
  {
   "cell_type": "code",
   "execution_count": 75,
   "id": "504dc1ec",
   "metadata": {},
   "outputs": [
    {
     "name": "stdout",
     "output_type": "stream",
     "text": [
      "\n",
      "Classification report for Randomforest\n",
      "              precision    recall  f1-score   support\n",
      "\n",
      "           0       0.77      0.51      0.61       275\n",
      "           1       0.77      0.91      0.84       493\n",
      "\n",
      "    accuracy                           0.77       768\n",
      "   macro avg       0.77      0.71      0.73       768\n",
      "weighted avg       0.77      0.77      0.76       768\n",
      "\n"
     ]
    }
   ],
   "source": [
    "print(\"\\nClassification report for Randomforest\") \n",
    "print(classification_report(y_test,Rf_pred))"
   ]
  },
  {
   "cell_type": "code",
   "execution_count": 76,
   "id": "91a206b7",
   "metadata": {},
   "outputs": [
    {
     "name": "stdout",
     "output_type": "stream",
     "text": [
      "\n",
      "Classification report for Adaboosting classifier\n",
      "              precision    recall  f1-score   support\n",
      "\n",
      "           0       0.75      0.42      0.54       275\n",
      "           1       0.74      0.92      0.82       493\n",
      "\n",
      "    accuracy                           0.74       768\n",
      "   macro avg       0.75      0.67      0.68       768\n",
      "weighted avg       0.74      0.74      0.72       768\n",
      "\n",
      "\n",
      "Classification report for BaggingClassifier\n",
      "              precision    recall  f1-score   support\n",
      "\n",
      "           0       0.71      0.52      0.60       275\n",
      "           1       0.77      0.88      0.82       493\n",
      "\n",
      "    accuracy                           0.75       768\n",
      "   macro avg       0.74      0.70      0.71       768\n",
      "weighted avg       0.75      0.75      0.74       768\n",
      "\n",
      "\n",
      "Classification report for ExtraTrees Classifier\n",
      "              precision    recall  f1-score   support\n",
      "\n",
      "           0       0.71      0.55      0.62       275\n",
      "           1       0.78      0.88      0.82       493\n",
      "\n",
      "    accuracy                           0.76       768\n",
      "   macro avg       0.74      0.71      0.72       768\n",
      "weighted avg       0.75      0.76      0.75       768\n",
      "\n",
      "\n",
      "Classification report for GradientBoostingClassifier\n",
      "              precision    recall  f1-score   support\n",
      "\n",
      "           0       0.88      0.21      0.34       275\n",
      "           1       0.69      0.98      0.81       493\n",
      "\n",
      "    accuracy                           0.71       768\n",
      "   macro avg       0.78      0.60      0.57       768\n",
      "weighted avg       0.76      0.71      0.64       768\n",
      "\n",
      "\n",
      "Classification report forXGBC\n",
      "              precision    recall  f1-score   support\n",
      "\n",
      "           0       0.88      0.21      0.34       275\n",
      "           1       0.69      0.98      0.81       493\n",
      "\n",
      "    accuracy                           0.71       768\n",
      "   macro avg       0.78      0.60      0.57       768\n",
      "weighted avg       0.76      0.71      0.64       768\n",
      "\n"
     ]
    }
   ],
   "source": [
    "print(\"\\nClassification report for Adaboosting classifier\") \n",
    "print(classification_report(y_test,Ad_pred))\n",
    "print(\"\\nClassification report for BaggingClassifier\") \n",
    "print(classification_report(y_test,B_pred))\n",
    "print(\"\\nClassification report for ExtraTrees Classifier\") \n",
    "print(classification_report(y_test,E_pred))\n",
    "print(\"\\nClassification report for GradientBoostingClassifier\") \n",
    "print(classification_report(y_test,G_pred))\n",
    "print(\"\\nClassification report forXGBC\") \n",
    "print(classification_report(y_test,X_pred))"
   ]
  },
  {
   "cell_type": "code",
   "execution_count": 77,
   "id": "7e4f7c05",
   "metadata": {},
   "outputs": [
    {
     "name": "stdout",
     "output_type": "stream",
     "text": [
      "\n",
      "Confusion matrix for K-Nearest Neighbor\n",
      "[[101 174]\n",
      " [111 382]]\n",
      "\n",
      "Confusion matrix for Naive Bayes\n",
      "[[224  51]\n",
      " [295 198]]\n",
      "\n",
      "Confusion matrix for Decision Tree\n",
      "[[ 44 231]\n",
      " [ 17 476]]\n",
      "\n",
      "Confusion matrix for Suport Vector Machines\n",
      "[[144 131]\n",
      " [101 392]]\n",
      "\n",
      "Confusion matrix for RandomForest\n",
      "[[141 134]\n",
      " [ 43 450]]\n",
      "\n",
      "Confusion matrix for Adaboosting classifier\n",
      "[[115 160]\n",
      " [ 38 455]]\n",
      "\n",
      "Confusion matrix for BaggingClassifier\n",
      "[[143 132]\n",
      " [ 59 434]]\n",
      "\n",
      "Confusion matrix for ExtraTrees Classifier\n",
      "[[150 125]\n",
      " [ 61 432]]\n",
      "\n",
      "Confusion matrix for GradientBoostingClassifier\n",
      "[[ 57 218]\n",
      " [  8 485]]\n",
      "\n",
      "Confusion matrixt for XGBC\n",
      "[[ 57 218]\n",
      " [  8 485]]\n"
     ]
    }
   ],
   "source": [
    "print(\"\\nConfusion matrix for K-Nearest Neighbor\") \n",
    "print(confusion_matrix(y_test,Knn_pred))\n",
    "print(\"\\nConfusion matrix for Naive Bayes\") \n",
    "print(confusion_matrix(y_test,Gnb_pred))\n",
    "print(\"\\nConfusion matrix for Decision Tree\") \n",
    "print(confusion_matrix(y_test,DT_pred))\n",
    "print(\"\\nConfusion matrix for Suport Vector Machines\") \n",
    "print(confusion_matrix(y_test,Svm_pred))\n",
    "print(\"\\nConfusion matrix for RandomForest\") \n",
    "print(confusion_matrix(y_test,Rf_pred))\n",
    "print(\"\\nConfusion matrix for Adaboosting classifier\") \n",
    "print(confusion_matrix(y_test,Ad_pred))\n",
    "print(\"\\nConfusion matrix for BaggingClassifier\") \n",
    "print(confusion_matrix(y_test,B_pred))\n",
    "print(\"\\nConfusion matrix for ExtraTrees Classifier\") \n",
    "print(confusion_matrix(y_test,E_pred))\n",
    "print(\"\\nConfusion matrix for GradientBoostingClassifier\") \n",
    "print(confusion_matrix(y_test,G_pred))\n",
    "print(\"\\nConfusion matrixt for XGBC\") \n",
    "print(confusion_matrix(y_test,X_pred))"
   ]
  },
  {
   "cell_type": "markdown",
   "id": "a0508db4",
   "metadata": {},
   "source": [
    "# AUC-ROC Curve in Machine Learning Clearly Explained¶"
   ]
  },
  {
   "cell_type": "code",
   "execution_count": 78,
   "id": "4fbd7542",
   "metadata": {},
   "outputs": [
    {
     "data": {
      "image/png": "[encoded data removed]",
      "text/plain": [
       "<Figure size 432x432 with 1 Axes>"
      ]
     },
     "metadata": {
      "needs_background": "light"
     },
     "output_type": "display_data"
    }
   ],
   "source": [
    "from sklearn.metrics import roc_curve,auc\n",
    "k_fpr,k_tpr,threshold=roc_curve(y_test,Knn_pred)\n",
    "auc_knn=auc(k_fpr,k_tpr)\n",
    "nb_fpr,nb_tpr,threshold=roc_curve(y_test,Gnb_pred)\n",
    "auc_G=auc(nb_fpr,nb_tpr)\n",
    "dt_fpr,dt_tpr,threshold=roc_curve(y_test,DT_pred)\n",
    "auc_dt=auc(dt_fpr,dt_tpr)\n",
    "svm_fpr,svm_tpr,threshold=roc_curve(y_test,Svm_pred)\n",
    "auc_Svm=auc(svm_fpr,svm_tpr)\n",
    "rf_fpr,rf_tpr,threshold=roc_curve(y_test,Rf_pred)\n",
    "auc_rf=auc(rf_fpr,rf_tpr)\n",
    "ad_fpr,ad_tpr,threshold=roc_curve(y_test,Ad_pred)\n",
    "auc_ad=auc(ad_fpr,ad_tpr)\n",
    "b_fpr,b_tpr,threshold=roc_curve(y_test,B_pred)\n",
    "auc_b=auc(b_fpr,b_tpr)\n",
    "e_fpr,e_tpr,threshold=roc_curve(y_test,E_pred)\n",
    "auc_e=auc(e_fpr,e_tpr)\n",
    "g_fpr,g_tpr,threshold=roc_curve(y_test,G_pred)\n",
    "auc_g=auc(g_fpr,g_tpr)\n",
    "x_fpr,x_tpr,threshold=roc_curve(y_test,X_pred)\n",
    "auc_x=auc(x_fpr,x_tpr)\n",
    "plt.figure(figsize=(6,6))\n",
    "plt.plot(k_fpr,k_tpr,linestyle='-',label=' K-Nearest Neighbor'%auc_knn)\n",
    "plt.plot(dt_fpr,dt_tpr,linestyle='-',label='Decision Tree'%auc_dt)\n",
    "plt.plot(nb_fpr,nb_tpr,linestyle='-',label='Naive Bayes'%auc_G)\n",
    "plt.plot(svm_fpr,svm_tpr,linestyle='-',label='Support vector machine'%auc_Svm)\n",
    "plt.plot(rf_fpr,rf_tpr,linestyle='-',label='Random Forest'%auc_rf)\n",
    "plt.plot(ad_fpr,ad_tpr,linestyle='-',label='Adaboosting Classifier'%auc_ad)\n",
    "plt.plot(b_fpr,b_tpr,linestyle='-',label='Bagging Classifier'%auc_b)\n",
    "plt.plot(e_fpr,e_tpr,linestyle='-',label='Extratrees Classifier'%auc_e)\n",
    "plt.plot(g_fpr,g_tpr,linestyle='-',label='Gradient boosting classifier'%auc_g)\n",
    "plt.plot(x_fpr,x_tpr,linestyle='-',label='XgbClassifier'%auc_x)\n",
    "plt.xlabel('False Positive Rate---->')\n",
    "plt.ylabel('True positive Rate----->')\n",
    "plt.legend()\n",
    "plt.show()"
   ]
  },
  {
   "cell_type": "code",
   "execution_count": 79,
   "id": "bdf8f011",
   "metadata": {},
   "outputs": [],
   "source": [
    "acc_knn= accuracy_score(y_test,Knn_pred)\n",
    "acc_nb= accuracy_score(y_test,Gnb_pred)\n",
    "acc_dt= accuracy_score(y_test,DT_pred)\n",
    "acc_svm= accuracy_score(y_test,Svm_pred)\n",
    "acc_rf= accuracy_score(y_test,Rf_pred)\n",
    "acc_a= accuracy_score(y_test,Ad_pred)\n",
    "acc_b= accuracy_score(y_test,B_pred)\n",
    "acc_g= accuracy_score(y_test,G_pred)\n",
    "acc_e= accuracy_score(y_test,E_pred)\n",
    "acc_x= accuracy_score(y_test,X_pred)\n"
   ]
  },
  {
   "cell_type": "markdown",
   "id": "3e76a1fb",
   "metadata": {},
   "source": [
    "# F1-SCORE FOR EACH ALGORITHM "
   ]
  },
  {
   "cell_type": "code",
   "execution_count": 81,
   "id": "b839184f",
   "metadata": {},
   "outputs": [
    {
     "name": "stdout",
     "output_type": "stream",
     "text": [
      "The f1 score for KNN is 62.89%\n",
      "The f1 score for NB is 54.95%\n",
      "The f1 score for DT is 67.71%\n",
      "The f1 score for SVM is 69.79%\n",
      "The f1 score for RF is 76.95%\n",
      "The f1 score for adaboosting is 74.22%\n",
      "The f1 score for bagging is 75.13%\n",
      "The f1 score for gradient is 70.57%\n",
      "The f1 score for extratree is 75.78%\n",
      "The f1 score for XGB is 70.57%\n"
     ]
    }
   ],
   "source": [
    "from sklearn.metrics import f1_score\n",
    "f1_knn= accuracy_score(y_test,Knn_pred)\n",
    "print(f'The f1 score for KNN is {round(f1_knn*100,2)}%')\n",
    "f1_nb= accuracy_score(y_test,Gnb_pred)\n",
    "print(f'The f1 score for NB is {round(f1_nb*100,2)}%')\n",
    "f1_dt= accuracy_score(y_test,DT_pred)\n",
    "print(f'The f1 score for DT is {round(f1_dt*100,2)}%')\n",
    "f1_svm= accuracy_score(y_test,Svm_pred)\n",
    "print(f'The f1 score for SVM is {round(f1_svm*100,2)}%')\n",
    "f1_rf= accuracy_score(y_test,Rf_pred)\n",
    "print(f'The f1 score for RF is {round(f1_rf*100,2)}%')\n",
    "f1_a= accuracy_score(y_test,Ad_pred)\n",
    "print(f'The f1 score for adaboosting is {round(f1_a*100,2)}%')\n",
    "f1_b= accuracy_score(y_test,B_pred)\n",
    "print(f'The f1 score for bagging is {round(f1_b*100,2)}%')\n",
    "f1_g= accuracy_score(y_test,G_pred)\n",
    "print(f'The f1 score for gradient is {round(f1_g*100,2)}%')\n",
    "f1_e= accuracy_score(y_test,E_pred)\n",
    "print(f'The f1 score for extratree is {round(f1_e*100,2)}%')\n",
    "f1_x= accuracy_score(y_test,X_pred)\n",
    "print(f'The f1 score for XGB is {round(f1_x*100,2)}%')"
   ]
  },
  {
   "cell_type": "markdown",
   "id": "6e17dd0b",
   "metadata": {},
   "source": [
    "# COMPARISON OF THE ACCURACY,AUC AND F1-SCORE FOR 10 CLASSIFIER ALGORITHM"
   ]
  },
  {
   "cell_type": "code",
   "execution_count": 92,
   "id": "e3ad1748",
   "metadata": {},
   "outputs": [],
   "source": [
    "import pandas as pd\n",
    "comparison = pd.DataFrame({\n",
    "    \"K-nearest neighbours\":{'Accuracy':acc_knn, 'AUC':auc_knn, 'F1 score':f1_knn},\n",
    "    \"Naive-bayes\":{'Accuracy':acc_nb, 'AUC':auc_G, 'F1 score':f1_nb},\n",
    "    \"Decision Tree\":{'Accuracy':acc_dt, 'AUC':auc_dt, 'F1 score':f1_dt},\n",
    "    \"Support vector machine\":{'Accuracy':acc_svm, 'AUC':auc_Svm, 'F1 score':f1_svm},\n",
    "    \"Random Forest\":{'Accuracy':acc_rf, 'AUC':auc_rf, 'F1 score':f1_rf},\n",
    "    \"AdaboostingClassifier\":{'Accuracy':acc_a, 'AUC':auc_ad, 'F1 score':f1_a},\n",
    "    \"BaggingClassifier\":{'Accuracy':acc_b, 'AUC':auc_b, 'F1 score':f1_b},\n",
    "    \"GradientClassifier\":{'Accuracy':acc_g, 'AUC':auc_g, 'F1 score':f1_g},\n",
    "    \"ExtraTreeClassifier\":{'Accuracy':acc_e, 'AUC':auc_e, 'F1 score':f1_e},\n",
    "    \"xgbClassifier\":{'Accuracy':acc_x, 'AUC':auc_x, 'F1 score':f1_x}\n",
    "})"
   ]
  },
  {
   "cell_type": "code",
   "execution_count": 94,
   "id": "8d2b1f6d",
   "metadata": {},
   "outputs": [
    {
     "data": {
      "text/html": [
       "<div>\n",
       "<style scoped>\n",
       "    .dataframe tbody tr th:only-of-type {\n",
       "        vertical-align: middle;\n",
       "    }\n",
       "\n",
       "    .dataframe tbody tr th {\n",
       "        vertical-align: top;\n",
       "    }\n",
       "\n",
       "    .dataframe thead th {\n",
       "        text-align: right;\n",
       "    }\n",
       "</style>\n",
       "<table border=\"1\" class=\"dataframe\">\n",
       "  <thead>\n",
       "    <tr style=\"text-align: right;\">\n",
       "      <th></th>\n",
       "      <th>K-nearest neighbours</th>\n",
       "      <th>Naive-bayes</th>\n",
       "      <th>Decision Tree</th>\n",
       "      <th>Support vector machine</th>\n",
       "      <th>Random Forest</th>\n",
       "      <th>AdaboostingClassifier</th>\n",
       "      <th>BaggingClassifier</th>\n",
       "      <th>GradientClassifier</th>\n",
       "      <th>ExtraTreeClassifier</th>\n",
       "      <th>xgbClassifier</th>\n",
       "    </tr>\n",
       "  </thead>\n",
       "  <tbody>\n",
       "    <tr>\n",
       "      <th>Accuracy</th>\n",
       "      <td>0.628906</td>\n",
       "      <td>0.549479</td>\n",
       "      <td>0.677083</td>\n",
       "      <td>0.697917</td>\n",
       "      <td>0.769531</td>\n",
       "      <td>0.742188</td>\n",
       "      <td>0.751302</td>\n",
       "      <td>0.705729</td>\n",
       "      <td>0.757812</td>\n",
       "      <td>0.705729</td>\n",
       "    </tr>\n",
       "    <tr>\n",
       "      <th>AUC</th>\n",
       "      <td>0.571060</td>\n",
       "      <td>0.608084</td>\n",
       "      <td>0.562759</td>\n",
       "      <td>0.659384</td>\n",
       "      <td>0.712753</td>\n",
       "      <td>0.670551</td>\n",
       "      <td>0.700162</td>\n",
       "      <td>0.595523</td>\n",
       "      <td>0.710861</td>\n",
       "      <td>0.595523</td>\n",
       "    </tr>\n",
       "    <tr>\n",
       "      <th>F1 score</th>\n",
       "      <td>0.628906</td>\n",
       "      <td>0.549479</td>\n",
       "      <td>0.677083</td>\n",
       "      <td>0.697917</td>\n",
       "      <td>0.769531</td>\n",
       "      <td>0.742188</td>\n",
       "      <td>0.751302</td>\n",
       "      <td>0.705729</td>\n",
       "      <td>0.757812</td>\n",
       "      <td>0.705729</td>\n",
       "    </tr>\n",
       "  </tbody>\n",
       "</table>\n",
       "</div>"
      ],
      "text/plain": [
       "          K-nearest neighbours  Naive-bayes  Decision Tree  \\\n",
       "Accuracy              0.628906     0.549479       0.677083   \n",
       "AUC                   0.571060     0.608084       0.562759   \n",
       "F1 score              0.628906     0.549479       0.677083   \n",
       "\n",
       "          Support vector machine  Random Forest  AdaboostingClassifier  \\\n",
       "Accuracy                0.697917       0.769531               0.742188   \n",
       "AUC                     0.659384       0.712753               0.670551   \n",
       "F1 score                0.697917       0.769531               0.742188   \n",
       "\n",
       "          BaggingClassifier  GradientClassifier  ExtraTreeClassifier  \\\n",
       "Accuracy           0.751302            0.705729             0.757812   \n",
       "AUC                0.700162            0.595523             0.710861   \n",
       "F1 score           0.751302            0.705729             0.757812   \n",
       "\n",
       "          xgbClassifier  \n",
       "Accuracy       0.705729  \n",
       "AUC            0.595523  \n",
       "F1 score       0.705729  "
      ]
     },
     "execution_count": 94,
     "metadata": {},
     "output_type": "execute_result"
    }
   ],
   "source": [
    "comparison"
   ]
  },
  {
   "cell_type": "code",
   "execution_count": 96,
   "id": "e03265a5",
   "metadata": {},
   "outputs": [
    {
     "name": "stdout",
     "output_type": "stream",
     "text": [
      "Requirement already satisfied: opencv-contrib-python in c:\\users\\asme\\anaconda3\\lib\\site-packages (4.6.0.66)\n",
      "Requirement already satisfied: numpy>=1.14.5 in c:\\users\\asme\\anaconda3\\lib\\site-packages (from opencv-contrib-python) (1.20.3)\n",
      "Note: you may need to restart the kernel to use updated packages.\n"
     ]
    }
   ],
   "source": [
    "pip install opencv-contrib-python"
   ]
  },
  {
   "cell_type": "code",
   "execution_count": 97,
   "id": "c858f3fb",
   "metadata": {},
   "outputs": [
    {
     "name": "stdout",
     "output_type": "stream",
     "text": [
      "Requirement already satisfied: opencv-python in c:\\users\\asme\\anaconda3\\lib\\site-packages (4.6.0.66)\n",
      "Requirement already satisfied: numpy>=1.14.5 in c:\\users\\asme\\anaconda3\\lib\\site-packages (from opencv-python) (1.20.3)\n"
     ]
    }
   ],
   "source": [
    "!pip install opencv-python"
   ]
  },
  {
   "cell_type": "code",
   "execution_count": 98,
   "id": "dc38f900",
   "metadata": {},
   "outputs": [
    {
     "name": "stdout",
     "output_type": "stream",
     "text": [
      "Note: you may need to restart the kernel to use updated packages.\n"
     ]
    },
    {
     "name": "stderr",
     "output_type": "stream",
     "text": [
      "ERROR: Could not find a version that satisfies the requirement pickle (from versions: none)\n",
      "ERROR: No matching distribution found for pickle\n"
     ]
    }
   ],
   "source": [
    "pip install pickle"
   ]
  },
  {
   "cell_type": "markdown",
   "id": "ce87b226",
   "metadata": {},
   "source": [
    "# IN ORDER TO DEPLOY THE SYSTEM "
   ]
  },
  {
   "cell_type": "code",
   "execution_count": 99,
   "id": "de804e48",
   "metadata": {},
   "outputs": [],
   "source": [
    "import pickle\n",
    "pickle.dump(cv,open('vectorizer.pkl','wb'))\n",
    "pickle.dump(Svm,open('model.pkl','wb'))\n"
   ]
  },
  {
   "cell_type": "code",
   "execution_count": null,
   "id": "300cc341",
   "metadata": {},
   "outputs": [],
   "source": [
    "# Thank you !!!"
   ]
  }
 ],
 "metadata": {
  "kernelspec": {
   "display_name": "Python 3 (ipykernel)",
   "language": "python",
   "name": "python3"
  },
  "language_info": {
   "codemirror_mode": {
    "name": "ipython",
    "version": 3
   },
   "file_extension": ".py",
   "mimetype": "text/x-python",
   "name": "python",
   "nbconvert_exporter": "python",
   "pygments_lexer": "ipython3",
   "version": "3.9.7"
  }
 },
 "nbformat": 4,
 "nbformat_minor": 5
}
